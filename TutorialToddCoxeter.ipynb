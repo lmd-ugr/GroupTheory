{
 "cells": [
  {
   "cell_type": "markdown",
   "metadata": {
    "slideshow": {
     "slide_type": "slide"
    }
   },
   "source": [
    "# Algoritmo de Todd Coxeter\n",
    "\n",
    "Sea G un grupo definido por una presentación \\\\( G = \\langle X | R \\rangle \\\\), donde \\\\( X \\\\) es el conjunto de generadores y \\\\( R\\\\) el conjunto de relatores. Sea \\\\(H = < h_1, h_2,...,h_r> \\leq G \\\\), donde los generadores \\\\( h_i \\\\) son palabras en el alfabeto \\\\( X^{\\pm 1} \\\\)\n",
    "\n",
    "El Algoritmo de Todd Coxeter resuelve el problema de la palabra (word problem) para el grupo \\\\( G \\\\) mediante la enumeración de clases de \\\\( G/H \\\\).\n",
    "\n",
    "\n",
    "\n",
    "\n"
   ]
  },
  {
   "cell_type": "markdown",
   "metadata": {
    "slideshow": {
     "slide_type": "slide"
    }
   },
   "source": [
    "En primer lugar, importamos las librerías que se usará el programa:"
   ]
  },
  {
   "cell_type": "code",
   "execution_count": 1,
   "metadata": {
    "slideshow": {
     "slide_type": "subslide"
    }
   },
   "outputs": [],
   "source": [
    "from ToddCoxeter import CosetTable, readGroup\n",
    "from Group import *\n",
    "from IPython.display import display, Image,HTML\n"
   ]
  },
  {
   "cell_type": "markdown",
   "metadata": {
    "slideshow": {
     "slide_type": "slide"
    }
   },
   "source": [
    "- Los generadores X serán letras del abecedario \\\\((a,b,c...)\\\\) y el elemento inverso de cada generador será representado por la misma letra pero en mayúscula. \n",
    " \n",
    "\n",
    "- Las relaciones serán palabras en el alfabeto \\\\( X^{\\pm 1}\\\\) y se deben dar igualadas a 1. Por ejemplo:\n",
    "    \n",
    "    \\\\[ a^3b^2 = 1 \\leftrightarrow aaabb \\\\]\n",
    " \\\\[ aba^{-1}b^{-1}=1 \\leftrightarrow abAB \\\\]\n"
   ]
  },
  {
   "cell_type": "markdown",
   "metadata": {
    "slideshow": {
     "slide_type": "subslide"
    }
   },
   "source": [
    "Consideremos el siguiente ejemplo:"
   ]
  },
  {
   "cell_type": "code",
   "execution_count": 2,
   "metadata": {
    "slideshow": {
     "slide_type": "subslide"
    }
   },
   "outputs": [],
   "source": [
    "gen = ['a','b']\n",
    "rels = ['aa','bb','abAB']\n",
    "genH = []\n"
   ]
  },
  {
   "cell_type": "markdown",
   "metadata": {
    "slideshow": {
     "slide_type": "slide"
    }
   },
   "source": [
    "Internamente, el algoritmo de Todd Coxeter trabaja con una tabla de clases laterales de \\\\( G \\\\) sobre \\\\( H \\\\)\n",
    " - El constructor de la clase se encarga de crear las variables necesarias a partir de la presentación dada.\n",
    " - El método que devuelve la tabla es \\\\( coset\\_table() \\\\). Inicialmente, al crear el objeto la tabla estará vacía."
   ]
  },
  {
   "cell_type": "code",
   "execution_count": 4,
   "metadata": {
    "slideshow": {
     "slide_type": "subslide"
    }
   },
   "outputs": [],
   "source": [
    "C = CosetTable(gen,rels, genH)"
   ]
  },
  {
   "cell_type": "markdown",
   "metadata": {
    "slideshow": {
     "slide_type": "slide"
    }
   },
   "source": [
    "La función que ejecuta el método principal se denomina \\\\( CosetEnumeration() \\\\).  \n",
    "En ella se refleja la acción a la derecha de \\\\( G \\\\) sobre \\\\( G/H \\\\). \n"
   ]
  },
  {
   "cell_type": "code",
   "execution_count": 6,
   "metadata": {
    "slideshow": {
     "slide_type": "subslide"
    }
   },
   "outputs": [],
   "source": [
    "C.CosetEnumeration()"
   ]
  },
  {
   "cell_type": "markdown",
   "metadata": {
    "slideshow": {
     "slide_type": "subslide"
    }
   },
   "source": [
    "Ahora bien, podemos mostrar la tabla de clases laterales y el grafo de Schreier asociado. Las funciones, respectivamente, son \\\\( coset\\_table() \\\\) y \\\\( schreier\\_graph() \\\\).\n",
    "- Por teoría de grupos, el número de clases laterales coincide con el índice \\\\( [G:H]\\\\). \n",
    "- En nuestro programa, las clases laterales se representan por números \\\\( (1,2,3...) \\\\) ."
   ]
  },
  {
   "cell_type": "code",
   "execution_count": 10,
   "metadata": {
    "slideshow": {
     "slide_type": "subslide"
    }
   },
   "outputs": [
    {
     "name": "stdout",
     "output_type": "stream",
     "text": [
      "┌───┬───┬───┬───┬───┐\n",
      "│ C │ a │ A │ b │ B │\n",
      "├───┼───┼───┼───┼───┤\n",
      "│ 1 │ 2 │ 2 │ 3 │ 3 │\n",
      "├───┼───┼───┼───┼───┤\n",
      "│ 2 │ 1 │ 1 │ 4 │ 4 │\n",
      "├───┼───┼───┼───┼───┤\n",
      "│ 3 │ 4 │ 4 │ 1 │ 1 │\n",
      "├───┼───┼───┼───┼───┤\n",
      "│ 4 │ 3 │ 3 │ 2 │ 2 │\n",
      "└───┴───┴───┴───┴───┘\n"
     ]
    },
    {
     "data": {
      "image/png": "[encoded data removed]",
      "text/plain": [
       "<IPython.core.display.Image object>"
      ]
     },
     "metadata": {},
     "output_type": "display_data"
    }
   ],
   "source": [
    "T = C.coset_table()\n",
    "print(T)\n",
    "\n",
    "C.schreier_graph(notes=False)"
   ]
  },
  {
   "cell_type": "code",
   "execution_count": 11,
   "metadata": {
    "slideshow": {
     "slide_type": "subslide"
    }
   },
   "outputs": [
    {
     "name": "stdout",
     "output_type": "stream",
     "text": [
      "g0 = (1, 2)(3, 4)\n",
      "g1 = (1, 3)(2, 4)\n"
     ]
    }
   ],
   "source": [
    "def print_gens(gens):\n",
    "    for i in range(len(gens)):\n",
    "        print(\"g{} = {}\".format(i, gens[i]))\n",
    "        \n",
    "generators = C.getGenerators()\n",
    "print_gens(generators)\n"
   ]
  },
  {
   "cell_type": "code",
   "execution_count": 12,
   "metadata": {
    "slideshow": {
     "slide_type": "subslide"
    }
   },
   "outputs": [
    {
     "name": "stdout",
     "output_type": "stream",
     "text": [
      "Group with 4 elements: {(), (1, 2)(3, 4), (1, 4)(2, 3), (1, 3)(2, 4)}\n"
     ]
    }
   ],
   "source": [
    "G = Group(elems=generators)\n",
    "print(G)"
   ]
  },
  {
   "cell_type": "markdown",
   "metadata": {
    "slideshow": {
     "slide_type": "slide"
    }
   },
   "source": [
    "Al darle estructura de grupo, se pueden llamar a todos los métodos de la librería"
   ]
  },
  {
   "cell_type": "code",
   "execution_count": null,
   "metadata": {
    "slideshow": {
     "slide_type": "subslide"
    }
   },
   "outputs": [],
   "source": [
    "G.table()"
   ]
  },
  {
   "cell_type": "code",
   "execution_count": 13,
   "metadata": {
    "slideshow": {
     "slide_type": "subslide"
    }
   },
   "outputs": [
    {
     "name": "stdout",
     "output_type": "stream",
     "text": [
      "{(): 1, (1, 2)(3, 4): 2, (1, 4)(2, 3): 2, (1, 3)(2, 4): 2}\n"
     ]
    }
   ],
   "source": [
    "print(G.elements_order())"
   ]
  },
  {
   "cell_type": "code",
   "execution_count": 14,
   "metadata": {
    "slideshow": {
     "slide_type": "subslide"
    }
   },
   "outputs": [
    {
     "data": {
      "text/plain": [
       "True"
      ]
     },
     "execution_count": 14,
     "metadata": {},
     "output_type": "execute_result"
    }
   ],
   "source": [
    "K = KleinGroup()\n",
    "G.is_isomorphic(K)"
   ]
  },
  {
   "cell_type": "markdown",
   "metadata": {
    "slideshow": {
     "slide_type": "slide"
    }
   },
   "source": [
    "# Problemas del Algoritmo de Todd Coxeter\n",
    "\n",
    "## Coincidencias\n",
    "\n",
    "En el proceso de definición de clases, se puede dar la situación de que dos clases distintas resultan ser la misma, es decir, están en la misma clase de equivalencia. Esto se conoce como \\\\(coincidencia\\\\) y, cuando se detecta una, se ha de reemplazar el grafo de Schreier por un grafo cociente que refleje dicha coincidencia."
   ]
  },
  {
   "cell_type": "markdown",
   "metadata": {},
   "source": [
    "$G = \\langle a, b \\mid ab^{-1}b^{-1}a^{-1}bbb, b^{-1}a^{-1}a^{-1}baaa\\rangle$ y $H = \\{ 1 \\}$."
   ]
  },
  {
   "cell_type": "code",
   "execution_count": 15,
   "metadata": {
    "slideshow": {
     "slide_type": "slide"
    }
   },
   "outputs": [
    {
     "name": "stdout",
     "output_type": "stream",
     "text": [
      "(['a', 'b'], ['aBBAbbb', 'BAAbaaa'], [])\n"
     ]
    }
   ],
   "source": [
    "file = \"Groups/1.txt\"\n",
    "\n",
    "f = readGroup(file)\n",
    "print(f)"
   ]
  },
  {
   "cell_type": "code",
   "execution_count": 17,
   "metadata": {
    "slideshow": {
     "slide_type": "slide"
    }
   },
   "outputs": [],
   "source": [
    "G = CosetTable(f)\n",
    "G.CosetEnumeration()"
   ]
  },
  {
   "cell_type": "code",
   "execution_count": 18,
   "metadata": {
    "slideshow": {
     "slide_type": "subslide"
    }
   },
   "outputs": [
    {
     "name": "stdout",
     "output_type": "stream",
     "text": [
      "┌───┬───┬───┬───┬───┐\n",
      "│ C │ a │ A │ b │ B │\n",
      "├───┼───┼───┼───┼───┤\n",
      "│ 1 │ 1 │ 1 │ 1 │ 1 │\n",
      "└───┴───┴───┴───┴───┘\n",
      "Arrow from 1  to  1  coloured of  red\n",
      "Arrow from 1  to  1  coloured of  blue\n"
     ]
    },
    {
     "data": {
      "image/png": "[encoded data removed]",
      "text/plain": [
       "<IPython.core.display.Image object>"
      ]
     },
     "metadata": {},
     "output_type": "display_data"
    }
   ],
   "source": [
    "print(G.table)\n",
    "G.schreier_graph()\n"
   ]
  },
  {
   "cell_type": "markdown",
   "metadata": {
    "slideshow": {
     "slide_type": "slide"
    }
   },
   "source": [
    "## Memoria\n",
    "\n",
    "\n",
    "Uno de los principales problemas del algoritmo es su elevado uso de memoria. \n",
    "Para controlarla, se hacen uso de 2 variables:\n",
    "\n",
    "- \\\\(M \\\\), indica el tope de memoria disponible, es decir, el máximo número de clases (tamaño de la tabla) que se permiten. Inicializado a \\\\(1E6\\\\).\n",
    "\n",
    "- \\\\(n \\\\), indica el número de clases que se han utilizado en la ejecución.\n",
    "\n",
    "\n",
    "El conjunto de las clases vivas, denotado por \\\\( \\Omega \\\\) se define como:\n",
    "\n",
    "\\\\[  \\Omega = \\{ \\alpha \\in [1,\\ldots,n] \\; | \\;  p(\\alpha)= \\alpha \\}\\\\]"
   ]
  },
  {
   "cell_type": "markdown",
   "metadata": {
    "slideshow": {
     "slide_type": "subslide"
    }
   },
   "source": [
    "Las clases usadas en la ejecución del algoritmo se pueden ver con el método \\\\( usedCosets()\\\\), mientras \n",
    "que el número de clases finales (clases vivas) se consultan con \\\\(finalCosets() \\\\).\n",
    "\n"
   ]
  },
  {
   "cell_type": "code",
   "execution_count": 19,
   "metadata": {
    "slideshow": {
     "slide_type": "subslide"
    }
   },
   "outputs": [
    {
     "name": "stdout",
     "output_type": "stream",
     "text": [
      "Clases usadas: 85 \n",
      " Clases vivas: 1\n"
     ]
    }
   ],
   "source": [
    "u = G.usedCosets()\n",
    "f = G.finalCosets()\n",
    "\n",
    "print(\"Clases usadas: {} \\n Clases vivas: {}\".format(u,f))"
   ]
  },
  {
   "cell_type": "markdown",
   "metadata": {
    "slideshow": {
     "slide_type": "subslide"
    }
   },
   "source": [
    "¿Por qué se usan tantas clases en el algoritmo y únicamente 1 de ellas está viva?"
   ]
  },
  {
   "cell_type": "markdown",
   "metadata": {
    "slideshow": {
     "slide_type": "slide"
    }
   },
   "source": [
    "## Conocer la estructura de G y H usando la librería\n"
   ]
  },
  {
   "cell_type": "code",
   "execution_count": 20,
   "metadata": {
    "slideshow": {
     "slide_type": "subslide"
    }
   },
   "outputs": [
    {
     "name": "stdout",
     "output_type": "stream",
     "text": [
      "(['a', 'b', 'c'], ['aaaaaa', 'bb', 'cc', 'abc'], ['b'])\n",
      "┌───┬───┬───┬───┬───┬───┬───┐\n",
      "│ C │ a │ A │ b │ B │ c │ C │\n",
      "├───┼───┼───┼───┼───┼───┼───┤\n",
      "│ 1 │ 2 │ 6 │ 1 │ 1 │ 6 │ 6 │\n",
      "├───┼───┼───┼───┼───┼───┼───┤\n",
      "│ 2 │ 3 │ 1 │ 6 │ 6 │ 5 │ 5 │\n",
      "├───┼───┼───┼───┼───┼───┼───┤\n",
      "│ 3 │ 4 │ 2 │ 5 │ 5 │ 4 │ 4 │\n",
      "├───┼───┼───┼───┼───┼───┼───┤\n",
      "│ 4 │ 5 │ 3 │ 4 │ 4 │ 3 │ 3 │\n",
      "├───┼───┼───┼───┼───┼───┼───┤\n",
      "│ 5 │ 6 │ 4 │ 3 │ 3 │ 2 │ 2 │\n",
      "├───┼───┼───┼───┼───┼───┼───┤\n",
      "│ 6 │ 1 │ 5 │ 2 │ 2 │ 1 │ 1 │\n",
      "└───┴───┴───┴───┴───┴───┴───┘\n"
     ]
    }
   ],
   "source": [
    "file = \"Groups/3gens.txt\"\n",
    "f = readGroup(file)\n",
    "print(f)\n",
    "\n",
    "G = CosetTable(f)\n",
    "G.CosetEnumeration()\n",
    "print(G.coset_table())"
   ]
  },
  {
   "cell_type": "code",
   "execution_count": 21,
   "metadata": {
    "slideshow": {
     "slide_type": "subslide"
    }
   },
   "outputs": [
    {
     "data": {
      "image/png": "[encoded data removed]",
      "text/plain": [
       "<IPython.core.display.Image object>"
      ]
     },
     "metadata": {},
     "output_type": "display_data"
    }
   ],
   "source": [
    "G.schreier_graph(notes=False)"
   ]
  },
  {
   "cell_type": "code",
   "execution_count": 22,
   "metadata": {
    "slideshow": {
     "slide_type": "subslide"
    }
   },
   "outputs": [
    {
     "name": "stdout",
     "output_type": "stream",
     "text": [
      "g0 = (1, 2, 3, 4, 5, 6)\n",
      "g1 = (2, 6)(3, 5)\n",
      "g2 = (1, 6)(2, 5)(3, 4)\n"
     ]
    }
   ],
   "source": [
    "generators = G.getGenerators()\n",
    "print_gens(generators)\n",
    "group = Group(elems=generators)"
   ]
  },
  {
   "cell_type": "code",
   "execution_count": 23,
   "metadata": {
    "slideshow": {
     "slide_type": "subslide"
    }
   },
   "outputs": [
    {
     "name": "stdout",
     "output_type": "stream",
     "text": [
      "Group with 12 elements: {(1, 5)(2, 4), (1, 2, 3, 4, 5, 6), (1, 4)(2, 5)(3, 6), (1, 6)(2, 5)(3, 4), (1, 3)(4, 6), (1, 4)(2, 3)(5, 6), (), (2, 6)(3, 5), (1, 2)(3, 6)(4, 5), (1, 6, 5, 4, 3, 2), (1, 3, 5)(2, 4, 6), (1, 5, 3)(2, 6, 4)}\n",
      "False\n"
     ]
    }
   ],
   "source": [
    "print(group)\n",
    "\n",
    "print(group.is_abelian())"
   ]
  },
  {
   "cell_type": "markdown",
   "metadata": {
    "slideshow": {
     "slide_type": "subslide"
    }
   },
   "source": [
    "El grupo no es abeliano, luego se tiene que cumplir una de las siguientes condiciones:\n",
    "    \\\\[  G \\cong A_4 = \\{ a,b \\; | \\; a^3=b^3=(ab)^2=1 \\} \\\\]\n",
    "     \\\\[  G \\cong D_6 = \\{ a,b \\; | \\; a^6=b^2=1, ab=a^{-1}b \\} \\\\]\n",
    "    \\\\[  G \\cong Q_3 = \\{ a,b \\; | \\; a^{6}=1, a^n=b^2, ab=a^{-1}b \\}\\\\]"
   ]
  },
  {
   "cell_type": "code",
   "execution_count": 24,
   "metadata": {
    "slideshow": {
     "slide_type": "subslide"
    }
   },
   "outputs": [
    {
     "name": "stdout",
     "output_type": "stream",
     "text": [
      "False\n",
      "True\n",
      "False\n"
     ]
    }
   ],
   "source": [
    "A = AlternatingGroup(4)\n",
    "D = DihedralGroup(6)\n",
    "Q = QuaternionGroupGeneralised(3)\n",
    "\n",
    "print(group.is_isomorphic(A))\n",
    "print(group.is_isomorphic(D))\n",
    "print(group.is_isomorphic(Q))"
   ]
  }
 ],
 "metadata": {
  "celltoolbar": "Slideshow",
  "kernelspec": {
   "display_name": "Python 3",
   "language": "python",
   "name": "python3"
  },
  "language_info": {
   "codemirror_mode": {
    "name": "ipython",
    "version": 3
   },
   "file_extension": ".py",
   "mimetype": "text/x-python",
   "name": "python",
   "nbconvert_exporter": "python",
   "pygments_lexer": "ipython3",
   "version": "3.8.3"
  }
 },
 "nbformat": 4,
 "nbformat_minor": 4
}
