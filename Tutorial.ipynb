{
 "cells": [
  {
   "cell_type": "markdown",
   "metadata": {},
   "source": [
    "# Tutorial for `Group Theory library`\n",
    "\n",
    "This folder contains an extension of the Pedro Abelardo and José Luis Bueso library, based on the [absalg](https://github.com/naftaliharris/Abstract-Algebra) library and available in [github](https://github.com/pedritomelenas/Algebra-II/tree/master/Grupos)."
   ]
  },
  {
   "cell_type": "markdown",
   "metadata": {},
   "source": [
    "## Class Set\n",
    "\n",
    "To define a set, we will use the class Set in which we have added methods to work with on a set level.\n",
    "\n",
    "We start by loading the library:"
   ]
  },
  {
   "cell_type": "code",
   "execution_count": 1,
   "metadata": {},
   "outputs": [],
   "source": [
    "from Set import Set"
   ]
  },
  {
   "cell_type": "code",
   "execution_count": 2,
   "metadata": {},
   "outputs": [],
   "source": [
    "A = Set({1,2,3})\n",
    "B = Set({2,4})"
   ]
  },
  {
   "cell_type": "code",
   "execution_count": 3,
   "metadata": {},
   "outputs": [
    {
     "data": {
      "text/plain": [
       "{(2, 4), (1, 2), (3, 4), (2, 2), (3, 2), (1, 4)}"
      ]
     },
     "execution_count": 3,
     "metadata": {},
     "output_type": "execute_result"
    }
   ],
   "source": [
    "C = A*B\n",
    "C"
   ]
  },
  {
   "cell_type": "code",
   "execution_count": 4,
   "metadata": {},
   "outputs": [
    {
     "data": {
      "text/plain": [
       "(True, 6)"
      ]
     },
     "execution_count": 4,
     "metadata": {},
     "output_type": "execute_result"
    }
   ],
   "source": [
    "C.is_finite(), C.cardinality()"
   ]
  },
  {
   "cell_type": "code",
   "execution_count": 5,
   "metadata": {},
   "outputs": [
    {
     "data": {
      "text/plain": [
       "[{1}, {2}, {3}, {1, 2}, {1, 3}, {2, 3}, {1, 2, 3}]"
      ]
     },
     "execution_count": 5,
     "metadata": {},
     "output_type": "execute_result"
    }
   ],
   "source": [
    "A.subsets()"
   ]
  },
  {
   "cell_type": "code",
   "execution_count": 6,
   "metadata": {},
   "outputs": [
    {
     "data": {
      "text/plain": [
       "[{1, 2}, {1, 3}, {2, 3}]"
      ]
     },
     "execution_count": 6,
     "metadata": {},
     "output_type": "execute_result"
    }
   ],
   "source": [
    "A.subsets(2)"
   ]
  },
  {
   "cell_type": "markdown",
   "metadata": {},
   "source": [
    "## Class Function\n",
    "\n",
    "To represent the binary operation we will use the class Function. It uses the lambda functions that offers Python."
   ]
  },
  {
   "cell_type": "code",
   "execution_count": 7,
   "metadata": {},
   "outputs": [],
   "source": [
    "from Function import Function"
   ]
  },
  {
   "cell_type": "markdown",
   "metadata": {},
   "source": [
    "Let's define the following binary operation:\n",
    "\\\\[ \n",
    "S \\times S \\to S  \\\\\n",
    "(x,y) \\mapsto (x+y)\\%3\n",
    "\\\\]\n"
   ]
  },
  {
   "cell_type": "code",
   "execution_count": 8,
   "metadata": {},
   "outputs": [
    {
     "name": "stdout",
     "output_type": "stream",
     "text": [
      "f((0, 1))=1\n",
      " f((1, 2))=0\n",
      " f((2, 1))=0\n",
      " f((0, 0))=0\n",
      " f((1, 1))=2\n",
      " f((2, 0))=2\n",
      " f((0, 2))=2\n",
      " f((2, 2))=1\n",
      " f((1, 0))=1\n",
      "\n"
     ]
    }
   ],
   "source": [
    "S = Set({0,1,2})\n",
    "F = Function(S*S, S,lambda x: (x[0]+x[1])%3)\n",
    "print(F)"
   ]
  },
  {
   "cell_type": "markdown",
   "metadata": {},
   "source": [
    "## Class Group"
   ]
  },
  {
   "cell_type": "code",
   "execution_count": 9,
   "metadata": {},
   "outputs": [],
   "source": [
    "from Group import *"
   ]
  },
  {
   "cell_type": "markdown",
   "metadata": {},
   "source": [
    "The constructor of the class Group is somewhat more complicated since it offers us different ways to define a group. \n",
    "\n",
    "We can consult the documentation to see the different ways to define a group:"
   ]
  },
  {
   "cell_type": "code",
   "execution_count": 10,
   "metadata": {},
   "outputs": [],
   "source": [
    "Group?"
   ]
  },
  {
   "cell_type": "markdown",
   "metadata": {},
   "source": [
    "First of all, we will define a group given by a presentation:"
   ]
  },
  {
   "cell_type": "code",
   "execution_count": 11,
   "metadata": {},
   "outputs": [
    {
     "name": "stdout",
     "output_type": "stream",
     "text": [
      "Group with 5 elements: {(1, 3, 5, 2, 4), (1, 4, 2, 5, 3), (), (1, 5, 4, 3, 2), (1, 2, 3, 4, 5)}\n"
     ]
    }
   ],
   "source": [
    "gens = ['a']\n",
    "rels = ['aaaaa']\n",
    "\n",
    "G = Group(gensG=gens, relsG=rels)\n",
    "print(G)"
   ]
  },
  {
   "cell_type": "markdown",
   "metadata": {},
   "source": [
    "Let us define a group from scratch. We need a set and a binary operation."
   ]
  },
  {
   "cell_type": "code",
   "execution_count": 12,
   "metadata": {},
   "outputs": [],
   "source": [
    "S = Set(range(5))\n",
    "b_op = Function(S.cartesian(S),S,lambda x: (x[0]+x[1])%5)\n",
    "G = Group(S,b_op)"
   ]
  },
  {
   "cell_type": "markdown",
   "metadata": {},
   "source": [
    "We can, for instance, list the elements in `G`. Observe that this is just a representation of them."
   ]
  },
  {
   "cell_type": "code",
   "execution_count": 13,
   "metadata": {},
   "outputs": [
    {
     "data": {
      "text/plain": [
       "[0, 1, 2, 3, 4]"
      ]
     },
     "execution_count": 13,
     "metadata": {},
     "output_type": "execute_result"
    }
   ],
   "source": [
    "list(G)"
   ]
  },
  {
   "cell_type": "markdown",
   "metadata": {},
   "source": [
    "This does not mean that 1 is in `G`."
   ]
  },
  {
   "cell_type": "code",
   "execution_count": 14,
   "metadata": {},
   "outputs": [
    {
     "data": {
      "text/plain": [
       "False"
      ]
     },
     "execution_count": 14,
     "metadata": {},
     "output_type": "execute_result"
    }
   ],
   "source": [
    "1 in G"
   ]
  },
  {
   "cell_type": "markdown",
   "metadata": {},
   "source": [
    "However, 1 is in the underlying set of `G`"
   ]
  },
  {
   "cell_type": "code",
   "execution_count": 15,
   "metadata": {},
   "outputs": [
    {
     "data": {
      "text/plain": [
       "True"
      ]
     },
     "execution_count": 15,
     "metadata": {},
     "output_type": "execute_result"
    }
   ],
   "source": [
    "1 in G.Set"
   ]
  },
  {
   "cell_type": "markdown",
   "metadata": {},
   "source": [
    "In order to see 1 in `G`, we need to create an instance of it as element in `G`. And then, we can operate with it."
   ]
  },
  {
   "cell_type": "code",
   "execution_count": 16,
   "metadata": {
    "scrolled": true
   },
   "outputs": [
    {
     "data": {
      "text/plain": [
       "2"
      ]
     },
     "execution_count": 16,
     "metadata": {},
     "output_type": "execute_result"
    }
   ],
   "source": [
    "one = G(1)\n",
    "one*one"
   ]
  },
  {
   "cell_type": "markdown",
   "metadata": {},
   "source": [
    "As in this case, `G` is abelian, we can even perform the last operation by using `+`."
   ]
  },
  {
   "cell_type": "code",
   "execution_count": 17,
   "metadata": {},
   "outputs": [
    {
     "data": {
      "text/plain": [
       "2"
      ]
     },
     "execution_count": 17,
     "metadata": {},
     "output_type": "execute_result"
    }
   ],
   "source": [
    "one+one"
   ]
  },
  {
   "cell_type": "markdown",
   "metadata": {},
   "source": [
    "Also, in this case powers become multiples."
   ]
  },
  {
   "cell_type": "code",
   "execution_count": 18,
   "metadata": {
    "scrolled": true
   },
   "outputs": [
    {
     "data": {
      "text/plain": [
       "True"
      ]
     },
     "execution_count": 18,
     "metadata": {},
     "output_type": "execute_result"
    }
   ],
   "source": [
    "one**3 == 3*one"
   ]
  },
  {
   "cell_type": "markdown",
   "metadata": {},
   "source": [
    "The Cayley table of `G` can be calculated as follows (multiplicative table)."
   ]
  },
  {
   "cell_type": "code",
   "execution_count": 19,
   "metadata": {},
   "outputs": [
    {
     "data": {
      "text/html": [
       "<head><style>\n",
       "table, th, td {border: 1px solid black;\n",
       " border-collapse: collapse;}\n",
       " th, td {padding: 15px;}</style></head><p/>\n",
       " <table>\n",
       " <tr> <td bgcolor='White'> * </td> <td bgcolor=Red>0</td> <td bgcolor=Yellow>1</td> <td bgcolor=Lime>2</td> <td bgcolor=Blue>3</td> <td bgcolor=Tan>4</td> </tr>\n",
       "<tr> <td bgcolor=Red> 0  </td> <td bgcolor=Red>0</td>  <td bgcolor=Yellow>1</td>  <td bgcolor=Lime>2</td>  <td bgcolor=Blue>3</td>  <td bgcolor=Tan>4</td></tr>\n",
       " <tr> <td bgcolor=Yellow> 1  </td> <td bgcolor=Yellow>1</td>  <td bgcolor=Lime>2</td>  <td bgcolor=Blue>3</td>  <td bgcolor=Tan>4</td>  <td bgcolor=Red>0</td></tr>\n",
       " <tr> <td bgcolor=Lime> 2  </td> <td bgcolor=Lime>2</td>  <td bgcolor=Blue>3</td>  <td bgcolor=Tan>4</td>  <td bgcolor=Red>0</td>  <td bgcolor=Yellow>1</td></tr>\n",
       " <tr> <td bgcolor=Blue> 3  </td> <td bgcolor=Blue>3</td>  <td bgcolor=Tan>4</td>  <td bgcolor=Red>0</td>  <td bgcolor=Yellow>1</td>  <td bgcolor=Lime>2</td></tr>\n",
       " <tr> <td bgcolor=Tan> 4  </td> <td bgcolor=Tan>4</td>  <td bgcolor=Red>0</td>  <td bgcolor=Yellow>1</td>  <td bgcolor=Lime>2</td>  <td bgcolor=Blue>3</td></tr>\n",
       " </table>"
      ],
      "text/plain": [
       "<IPython.core.display.HTML object>"
      ]
     },
     "metadata": {},
     "output_type": "display_data"
    }
   ],
   "source": [
    "G.table()"
   ]
  },
  {
   "cell_type": "code",
   "execution_count": 20,
   "metadata": {},
   "outputs": [
    {
     "data": {
      "text/plain": [
       "{0, 1, 2, 3, 4}"
      ]
     },
     "execution_count": 20,
     "metadata": {},
     "output_type": "execute_result"
    }
   ],
   "source": [
    "Set([i*one for i in range(10)])"
   ]
  },
  {
   "cell_type": "markdown",
   "metadata": {},
   "source": [
    "We can indeed do this last operation by considering the group spanned by `one`; which in this case is `G` itself."
   ]
  },
  {
   "cell_type": "code",
   "execution_count": 21,
   "metadata": {},
   "outputs": [
    {
     "data": {
      "text/plain": [
       "True"
      ]
     },
     "execution_count": 21,
     "metadata": {},
     "output_type": "execute_result"
    }
   ],
   "source": [
    "H = G.generate([one])\n",
    "H == G"
   ]
  },
  {
   "cell_type": "code",
   "execution_count": 22,
   "metadata": {},
   "outputs": [
    {
     "data": {
      "text/plain": [
       "True"
      ]
     },
     "execution_count": 22,
     "metadata": {},
     "output_type": "execute_result"
    }
   ],
   "source": [
    "H == G.generate([1])"
   ]
  },
  {
   "cell_type": "markdown",
   "metadata": {},
   "source": [
    "This means that this group is *cyclic*."
   ]
  },
  {
   "cell_type": "code",
   "execution_count": 23,
   "metadata": {},
   "outputs": [
    {
     "data": {
      "text/plain": [
       "True"
      ]
     },
     "execution_count": 23,
     "metadata": {},
     "output_type": "execute_result"
    }
   ],
   "source": [
    "G.is_cyclic()"
   ]
  },
  {
   "cell_type": "markdown",
   "metadata": {},
   "source": [
    "We can also define a subgroup by its elements. The procedure will raise an error if the set is not a subgroup of the given group"
   ]
  },
  {
   "cell_type": "code",
   "execution_count": 24,
   "metadata": {
    "scrolled": false
   },
   "outputs": [],
   "source": [
    "G1 = CyclicGroup(6)\n",
    "H = G1.subgroup_by_elms([0,3])"
   ]
  },
  {
   "cell_type": "code",
   "execution_count": 25,
   "metadata": {},
   "outputs": [
    {
     "data": {
      "text/plain": [
       "True"
      ]
     },
     "execution_count": 25,
     "metadata": {},
     "output_type": "execute_result"
    }
   ],
   "source": [
    "3 in H.Set"
   ]
  },
  {
   "cell_type": "code",
   "execution_count": 26,
   "metadata": {},
   "outputs": [
    {
     "data": {
      "text/plain": [
       "True"
      ]
     },
     "execution_count": 26,
     "metadata": {},
     "output_type": "execute_result"
    }
   ],
   "source": [
    "H(3) in G1"
   ]
  },
  {
   "cell_type": "markdown",
   "metadata": {},
   "source": [
    "The inverse of an element can be compute in several ways. "
   ]
  },
  {
   "cell_type": "code",
   "execution_count": 27,
   "metadata": {},
   "outputs": [
    {
     "data": {
      "text/plain": [
       "[4, 4]"
      ]
     },
     "execution_count": 27,
     "metadata": {},
     "output_type": "execute_result"
    }
   ],
   "source": [
    "[G.inverse(one), one**-1]"
   ]
  },
  {
   "cell_type": "markdown",
   "metadata": {},
   "source": [
    "We can compute the lattice of subgroups of `G`. The output is a dictionary: `n:set of subgroups of order n`."
   ]
  },
  {
   "cell_type": "code",
   "execution_count": 28,
   "metadata": {},
   "outputs": [],
   "source": [
    "subgs = G.subgroups()"
   ]
  },
  {
   "cell_type": "code",
   "execution_count": 29,
   "metadata": {
    "scrolled": true
   },
   "outputs": [
    {
     "data": {
      "text/plain": [
       "{5: {Group( [0, 1, 2, 3, 4] )}, 1: {Group( [0] )}}"
      ]
     },
     "execution_count": 29,
     "metadata": {},
     "output_type": "execute_result"
    }
   ],
   "source": [
    "subgs"
   ]
  },
  {
   "cell_type": "markdown",
   "metadata": {},
   "source": [
    "Alternatively, we can compute a list with all subgroups with given order."
   ]
  },
  {
   "cell_type": "code",
   "execution_count": 30,
   "metadata": {},
   "outputs": [
    {
     "data": {
      "text/plain": [
       "Group( [0, 1, 2, 3, 4] )"
      ]
     },
     "execution_count": 30,
     "metadata": {},
     "output_type": "execute_result"
    }
   ],
   "source": [
    "G.subgroups(5)"
   ]
  },
  {
   "cell_type": "markdown",
   "metadata": {},
   "source": [
    "In particular this implies that `G` is a simple group."
   ]
  },
  {
   "cell_type": "code",
   "execution_count": 31,
   "metadata": {
    "scrolled": true
   },
   "outputs": [
    {
     "data": {
      "text/plain": [
       "True"
      ]
     },
     "execution_count": 31,
     "metadata": {},
     "output_type": "execute_result"
    }
   ],
   "source": [
    "G.is_simple()"
   ]
  },
  {
   "cell_type": "markdown",
   "metadata": {},
   "source": [
    "However, `G1` is not simple, since it has nontrivial subgroups"
   ]
  },
  {
   "cell_type": "code",
   "execution_count": 32,
   "metadata": {},
   "outputs": [
    {
     "data": {
      "text/plain": [
       "False"
      ]
     },
     "execution_count": 32,
     "metadata": {},
     "output_type": "execute_result"
    }
   ],
   "source": [
    "G1.is_simple()"
   ]
  },
  {
   "cell_type": "markdown",
   "metadata": {},
   "source": [
    "We can print the elements in the subgroups of `G`"
   ]
  },
  {
   "cell_type": "code",
   "execution_count": 33,
   "metadata": {},
   "outputs": [
    {
     "name": "stdout",
     "output_type": "stream",
     "text": [
      "{Group( [0, 1, 2, 3, 4] )}\n",
      "{Group( [0] )}\n"
     ]
    }
   ],
   "source": [
    "for keys,values in subgs.items():\n",
    "    print(values)\n"
   ]
  },
  {
   "cell_type": "markdown",
   "metadata": {},
   "source": [
    "Since `G` is abelian, all its subgroups are normal."
   ]
  },
  {
   "cell_type": "code",
   "execution_count": 34,
   "metadata": {},
   "outputs": [
    {
     "data": {
      "text/plain": [
       "{5: {Group( [0, 1, 2, 3, 4] )}, 1: {Group( [0] )}}"
      ]
     },
     "execution_count": 34,
     "metadata": {},
     "output_type": "execute_result"
    }
   ],
   "source": [
    "G.normal_subgroups()"
   ]
  },
  {
   "cell_type": "markdown",
   "metadata": {},
   "source": [
    "Indeed groups as `G` are quite common, this is why we dedided to write an specific function to define them: `CyclicGroup`. We will talk later more about it. \n",
    "\n",
    "The function `CyclicGroup(n)` returns (as defaul) the group $(\\mathbb{Z}_n,+)$."
   ]
  },
  {
   "cell_type": "code",
   "execution_count": 35,
   "metadata": {},
   "outputs": [
    {
     "data": {
      "text/plain": [
       "True"
      ]
     },
     "execution_count": 35,
     "metadata": {},
     "output_type": "execute_result"
    }
   ],
   "source": [
    "G.is_isomorphic(CyclicGroup(5))"
   ]
  },
  {
   "cell_type": "markdown",
   "metadata": {},
   "source": [
    "## Permutations\n",
    "\n",
    "Permutations are a fundamental tool for the study of groups. Indeed permutations (bijective maps) of the set $\\{1,\\ldots,n\\}$ under composition are a group that is not abelian for $n\\ge 3$.\n",
    "\n",
    "We have included a bunch of ways to define a permuation with the class `permutation`.\n",
    "\n",
    "- `permutation(list of integers)` creates a permutation in which the $i$ goes to the $i$th elmeent in the given list of integers.\n",
    "\n",
    "- `permutation(sequence of integers)` does the same as above, by considering the sequence as a list.\n",
    "\n",
    "- `permutation(sequence of tuples)` creates a permutation that is the product of the given tuples, by considering the tuples as cycles.\n",
    "\n",
    "- `permutation(list of tuples)` does the same as in the preceding case.\n"
   ]
  },
  {
   "cell_type": "code",
   "execution_count": 36,
   "metadata": {},
   "outputs": [
    {
     "data": {
      "text/plain": [
       "True"
      ]
     },
     "execution_count": 36,
     "metadata": {},
     "output_type": "execute_result"
    }
   ],
   "source": [
    "permutation(2,3,1,4) == permutation([2,3,1,4])"
   ]
  },
  {
   "cell_type": "code",
   "execution_count": 37,
   "metadata": {},
   "outputs": [
    {
     "data": {
      "text/plain": [
       "True"
      ]
     },
     "execution_count": 37,
     "metadata": {},
     "output_type": "execute_result"
    }
   ],
   "source": [
    "permutation((1,2),(3,4)) == permutation([(1,2),(3,4)])"
   ]
  },
  {
   "cell_type": "markdown",
   "metadata": {},
   "source": [
    "Composition of permutations is performed by using the `*` operator; powers with `**`."
   ]
  },
  {
   "cell_type": "code",
   "execution_count": 38,
   "metadata": {},
   "outputs": [
    {
     "data": {
      "text/plain": [
       "()"
      ]
     },
     "execution_count": 38,
     "metadata": {},
     "output_type": "execute_result"
    }
   ],
   "source": [
    "p=permutation((1,2),(3,4))\n",
    "p*p"
   ]
  },
  {
   "cell_type": "markdown",
   "metadata": {},
   "source": [
    "You may gues from the above output that we are displaying the identity map just by `( )`. Permutations are displayed as a product of disjoint cycles, and printed both in matrix representation and as a product of disjoint cycles."
   ]
  },
  {
   "cell_type": "code",
   "execution_count": 39,
   "metadata": {},
   "outputs": [
    {
     "data": {
      "text/plain": [
       "(1, 2)(3, 4)"
      ]
     },
     "execution_count": 39,
     "metadata": {},
     "output_type": "execute_result"
    }
   ],
   "source": [
    "p"
   ]
  },
  {
   "cell_type": "code",
   "execution_count": 40,
   "metadata": {},
   "outputs": [
    {
     "name": "stdout",
     "output_type": "stream",
     "text": [
      "(1, 2)(3, 4)\n"
     ]
    }
   ],
   "source": [
    "print(p)"
   ]
  },
  {
   "cell_type": "code",
   "execution_count": 41,
   "metadata": {},
   "outputs": [
    {
     "data": {
      "text/plain": [
       "True"
      ]
     },
     "execution_count": 41,
     "metadata": {},
     "output_type": "execute_result"
    }
   ],
   "source": [
    "p**-1 == p"
   ]
  },
  {
   "cell_type": "code",
   "execution_count": 42,
   "metadata": {},
   "outputs": [
    {
     "data": {
      "text/plain": [
       "2"
      ]
     },
     "execution_count": 42,
     "metadata": {},
     "output_type": "execute_result"
    }
   ],
   "source": [
    "p.order()"
   ]
  },
  {
   "cell_type": "markdown",
   "metadata": {},
   "source": [
    "Also we can compute its sign, inversions and decomposition into disjoint cycles."
   ]
  },
  {
   "cell_type": "code",
   "execution_count": 43,
   "metadata": {},
   "outputs": [
    {
     "data": {
      "text/plain": [
       "1"
      ]
     },
     "execution_count": 43,
     "metadata": {},
     "output_type": "execute_result"
    }
   ],
   "source": [
    "p.sign()"
   ]
  },
  {
   "cell_type": "code",
   "execution_count": 44,
   "metadata": {},
   "outputs": [
    {
     "data": {
      "text/plain": [
       "[(1, 2), (3, 4)]"
      ]
     },
     "execution_count": 44,
     "metadata": {},
     "output_type": "execute_result"
    }
   ],
   "source": [
    "p.inversions()"
   ]
  },
  {
   "cell_type": "code",
   "execution_count": 45,
   "metadata": {},
   "outputs": [
    {
     "data": {
      "text/plain": [
       "[(1, 2), (3, 4)]"
      ]
     },
     "execution_count": 45,
     "metadata": {},
     "output_type": "execute_result"
    }
   ],
   "source": [
    "p.disjoint_cycles()"
   ]
  },
  {
   "cell_type": "markdown",
   "metadata": {},
   "source": [
    "Finally, we can test if permutation is odd or even."
   ]
  },
  {
   "cell_type": "code",
   "execution_count": 46,
   "metadata": {},
   "outputs": [
    {
     "data": {
      "text/plain": [
       "(False, True)"
      ]
     },
     "execution_count": 46,
     "metadata": {},
     "output_type": "execute_result"
    }
   ],
   "source": [
    "p.odd_permutation(), p.even_permutation()"
   ]
  },
  {
   "cell_type": "markdown",
   "metadata": {},
   "source": [
    "## Groups of permutations\n",
    "\n",
    "As we mentioned above, permutations of $\\{1,\\ldots, n\\}$ with composition as binary operation are a group, which is known as the symmetric group and it is denoted by $S_n$. We have a function to create groups of permutations."
   ]
  },
  {
   "cell_type": "code",
   "execution_count": 47,
   "metadata": {},
   "outputs": [
    {
     "data": {
      "text/plain": [
       "[(), (2, 3), (1, 2), (1, 3), (1, 3, 2), (1, 2, 3)]"
      ]
     },
     "execution_count": 47,
     "metadata": {},
     "output_type": "execute_result"
    }
   ],
   "source": [
    "S3 = SymmetricGroup(3)\n",
    "list(S3)"
   ]
  },
  {
   "cell_type": "code",
   "execution_count": 48,
   "metadata": {},
   "outputs": [],
   "source": [
    "p = S3(permutation(3,2,1))\n",
    "q = S3(permutation(2,1,3))"
   ]
  },
  {
   "cell_type": "code",
   "execution_count": 49,
   "metadata": {},
   "outputs": [],
   "source": [
    "H = S3.generate([p,q])"
   ]
  },
  {
   "cell_type": "code",
   "execution_count": 50,
   "metadata": {},
   "outputs": [
    {
     "data": {
      "text/plain": [
       "{(1, 3), (2, 3), (1, 3, 2), (1, 2, 3), (), (1, 2)}"
      ]
     },
     "execution_count": 50,
     "metadata": {},
     "output_type": "execute_result"
    }
   ],
   "source": [
    "H.group_elems"
   ]
  },
  {
   "cell_type": "markdown",
   "metadata": {},
   "source": [
    "An important subgroup of the symmetric group $S_n$ is the group of all even (sign=1) permutations, which is known as the alternating group and denoted by $A_n$. It is well known that $A_n$ is a normal subgroup of $S_n$."
   ]
  },
  {
   "cell_type": "code",
   "execution_count": 51,
   "metadata": {},
   "outputs": [
    {
     "data": {
      "text/plain": [
       "[{(1, 2, 3), (), (1, 3, 2)}, {(1, 3), (2, 3), (1, 2)}]"
      ]
     },
     "execution_count": 51,
     "metadata": {},
     "output_type": "execute_result"
    }
   ],
   "source": [
    "A3 = AlternatingGroup(3)\n",
    "list(S3/A3)"
   ]
  },
  {
   "cell_type": "markdown",
   "metadata": {},
   "source": [
    "And in this way we are listing odd and even permutations in separate sets."
   ]
  },
  {
   "cell_type": "markdown",
   "metadata": {},
   "source": [
    "The symmetric group $S_n$ has always a \"copy\" of `CyclicGroup(n)`, which is the subgroup of $S_n$ spanned by the cycle $(1\\ldots n)$. We can construct it as follows. "
   ]
  },
  {
   "cell_type": "code",
   "execution_count": 52,
   "metadata": {},
   "outputs": [
    {
     "data": {
      "text/plain": [
       "[(), (1, 2, 3), (1, 3, 2)]"
      ]
     },
     "execution_count": 52,
     "metadata": {},
     "output_type": "execute_result"
    }
   ],
   "source": [
    "C3 = CyclicGroup(3,\"permutations\")\n",
    "list(C3)"
   ]
  },
  {
   "cell_type": "code",
   "execution_count": 53,
   "metadata": {},
   "outputs": [
    {
     "data": {
      "text/plain": [
       "[(), (1, 2, 3), (1, 3, 2)]"
      ]
     },
     "execution_count": 53,
     "metadata": {},
     "output_type": "execute_result"
    }
   ],
   "source": [
    "Z3 = CyclicGroup(3)\n",
    "list(C3)"
   ]
  },
  {
   "cell_type": "code",
   "execution_count": 54,
   "metadata": {},
   "outputs": [
    {
     "data": {
      "text/plain": [
       "True"
      ]
     },
     "execution_count": 54,
     "metadata": {},
     "output_type": "execute_result"
    }
   ],
   "source": [
    "C3.is_isomorphic(Z3)"
   ]
  },
  {
   "cell_type": "markdown",
   "metadata": {},
   "source": [
    "## Quaternions and the Klein group"
   ]
  },
  {
   "cell_type": "markdown",
   "metadata": {},
   "source": [
    "Quaternion numbers are an extension of complex numbers in which three imaginary units are used: $i,j,k$.\n",
    "We can use the Quaternion class to define them.\n"
   ]
  },
  {
   "cell_type": "code",
   "execution_count": 55,
   "metadata": {},
   "outputs": [
    {
     "data": {
      "text/plain": [
       " -3+3i+5j-7k"
      ]
     },
     "execution_count": 55,
     "metadata": {},
     "output_type": "execute_result"
    }
   ],
   "source": [
    "q = Quaternion(-3,1,2,-8)\n",
    "p = Quaternion(0,2,3,1)\n",
    "q+p"
   ]
  },
  {
   "cell_type": "code",
   "execution_count": 56,
   "metadata": {},
   "outputs": [
    {
     "data": {
      "text/plain": [
       " 20i-26j-4k"
      ]
     },
     "execution_count": 56,
     "metadata": {},
     "output_type": "execute_result"
    }
   ],
   "source": [
    "q*p"
   ]
  },
  {
   "cell_type": "code",
   "execution_count": 57,
   "metadata": {},
   "outputs": [
    {
     "data": {
      "text/plain": [
       " -6-30i+12j-18k"
      ]
     },
     "execution_count": 57,
     "metadata": {},
     "output_type": "execute_result"
    }
   ],
   "source": [
    "(q*p).conjugate() + 2*(q-3*p)"
   ]
  },
  {
   "cell_type": "markdown",
   "metadata": {},
   "source": [
    "We will see that i,j,k satisfy the next property:\n",
    "    $i^{2}=j^{2}=k^{2}=ijk=-1$ ."
   ]
  },
  {
   "cell_type": "code",
   "execution_count": 58,
   "metadata": {},
   "outputs": [],
   "source": [
    "i = Quaternion(0,1,0,0)\n",
    "j = Quaternion(0,0,1,0)\n",
    "k = Quaternion(0,0,0,1)"
   ]
  },
  {
   "cell_type": "code",
   "execution_count": 59,
   "metadata": {},
   "outputs": [
    {
     "data": {
      "text/plain": [
       "True"
      ]
     },
     "execution_count": 59,
     "metadata": {},
     "output_type": "execute_result"
    }
   ],
   "source": [
    "i*i == j*j == k*k == i*j*k == -1"
   ]
  },
  {
   "cell_type": "markdown",
   "metadata": {},
   "source": [
    "The next function creates the Quaternion group:"
   ]
  },
  {
   "cell_type": "code",
   "execution_count": 60,
   "metadata": {},
   "outputs": [
    {
     "data": {
      "text/plain": [
       "[ 1,  i,  j,  k,  -k,  -j,  -i,  -1]"
      ]
     },
     "execution_count": 60,
     "metadata": {},
     "output_type": "execute_result"
    }
   ],
   "source": [
    "Q2 = QuaternionGroup()\n",
    "list(Q2)"
   ]
  },
  {
   "cell_type": "code",
   "execution_count": 61,
   "metadata": {},
   "outputs": [
    {
     "data": {
      "text/plain": [
       "Group( [ 1,  -1] )"
      ]
     },
     "execution_count": 61,
     "metadata": {},
     "output_type": "execute_result"
    }
   ],
   "source": [
    "Q2.center()"
   ]
  },
  {
   "cell_type": "markdown",
   "metadata": {},
   "source": [
    "Klein group can be represented as $\\mathbb{Z}_2\\times \\mathbb{Z}_2$ or as a subgroup of $A_4$ (and thus of $S_4$)"
   ]
  },
  {
   "cell_type": "code",
   "execution_count": 62,
   "metadata": {},
   "outputs": [],
   "source": [
    "K=KleinGroup()"
   ]
  },
  {
   "cell_type": "code",
   "execution_count": 63,
   "metadata": {},
   "outputs": [
    {
     "data": {
      "text/plain": [
       "[(0, 0), (0, 1), (1, 0), (1, 1)]"
      ]
     },
     "execution_count": 63,
     "metadata": {},
     "output_type": "execute_result"
    }
   ],
   "source": [
    "list(K)"
   ]
  },
  {
   "cell_type": "code",
   "execution_count": 64,
   "metadata": {},
   "outputs": [
    {
     "data": {
      "text/plain": [
       "[(), (1, 2)(3, 4), (1, 4)(2, 3), (1, 3)(2, 4)]"
      ]
     },
     "execution_count": 64,
     "metadata": {},
     "output_type": "execute_result"
    }
   ],
   "source": [
    "list(KleinGroup(\"permutations\"))"
   ]
  },
  {
   "cell_type": "markdown",
   "metadata": {},
   "source": [
    "It is well known that the quaternions modulo its center yield the Klein group."
   ]
  },
  {
   "cell_type": "code",
   "execution_count": 65,
   "metadata": {},
   "outputs": [],
   "source": [
    "Q = Q2/Q2.center()"
   ]
  },
  {
   "cell_type": "code",
   "execution_count": 66,
   "metadata": {},
   "outputs": [
    {
     "data": {
      "text/plain": [
       "False"
      ]
     },
     "execution_count": 66,
     "metadata": {},
     "output_type": "execute_result"
    }
   ],
   "source": [
    "Q.is_cyclic()"
   ]
  },
  {
   "cell_type": "code",
   "execution_count": 67,
   "metadata": {},
   "outputs": [
    {
     "data": {
      "text/plain": [
       "True"
      ]
     },
     "execution_count": 67,
     "metadata": {},
     "output_type": "execute_result"
    }
   ],
   "source": [
    "Q.is_isomorphic(K)"
   ]
  },
  {
   "cell_type": "markdown",
   "metadata": {},
   "source": [
    "The Quaternion group generalised has presentation:\n",
    "\n",
    "$Q_n = \\langle a,b \\mid a^n = b^2, a^{2n}=1,\n",
    "b^{-1}ab=a^{-1} \\rangle \\, . $\n",
    "\n",
    "Its elements are permutations and, for example, we will define the Dyciclic group of order 12."
   ]
  },
  {
   "cell_type": "code",
   "execution_count": 68,
   "metadata": {},
   "outputs": [
    {
     "name": "stdout",
     "output_type": "stream",
     "text": [
      "Group with 12 elements: {(1, 10, 4, 11)(2, 9, 6, 12)(3, 8, 7, 5), (1, 5, 4, 8)(2, 10, 6, 11)(3, 9, 7, 12), (), (1, 12, 4, 9)(2, 5, 6, 8)(3, 10, 7, 11), (1, 7, 6, 4, 3, 2)(5, 10, 9, 8, 11, 12), (1, 2, 3, 4, 6, 7)(5, 12, 11, 8, 9, 10), (1, 8, 4, 5)(2, 11, 6, 10)(3, 12, 7, 9), (1, 9, 4, 12)(2, 8, 6, 5)(3, 11, 7, 10), (1, 6, 3)(2, 7, 4)(5, 9, 11)(8, 12, 10), (1, 4)(2, 6)(3, 7)(5, 8)(9, 12)(10, 11), (1, 3, 6)(2, 4, 7)(5, 11, 9)(8, 10, 12), (1, 11, 4, 10)(2, 12, 6, 9)(3, 5, 7, 8)}\n"
     ]
    }
   ],
   "source": [
    "Q3 = QuaternionGroupGeneralised(3)\n",
    "print(Q3)"
   ]
  },
  {
   "cell_type": "code",
   "execution_count": 69,
   "metadata": {},
   "outputs": [
    {
     "data": {
      "text/plain": [
       "True"
      ]
     },
     "execution_count": 69,
     "metadata": {},
     "output_type": "execute_result"
    }
   ],
   "source": [
    "Q = QuaternionGroup()\n",
    "Q2 = QuaternionGroupGeneralised(2)\n",
    "\n",
    "Q.is_isomorphic(Q2)"
   ]
  },
  {
   "cell_type": "markdown",
   "metadata": {},
   "source": [
    "## Groups of units\n",
    "The group of units (wrt multiplication) of $\\mathbb{Z}_n$ is constructed as follows."
   ]
  },
  {
   "cell_type": "code",
   "execution_count": 70,
   "metadata": {},
   "outputs": [
    {
     "data": {
      "text/html": [
       "<head><style>\n",
       "table, th, td {border: 1px solid black;\n",
       " border-collapse: collapse;}\n",
       " th, td {padding: 15px;}</style></head><p/>\n",
       " <table>\n",
       " <tr> <td bgcolor='White'> * </td> <td bgcolor=Red>1</td> <td bgcolor=Yellow>5</td> </tr>\n",
       "<tr> <td bgcolor=Red> 1  </td> <td bgcolor=Red>1</td>  <td bgcolor=Yellow>5</td></tr>\n",
       " <tr> <td bgcolor=Yellow> 5  </td> <td bgcolor=Yellow>5</td>  <td bgcolor=Red>1</td></tr>\n",
       " </table>"
      ],
      "text/plain": [
       "<IPython.core.display.HTML object>"
      ]
     },
     "metadata": {},
     "output_type": "display_data"
    }
   ],
   "source": [
    "G = GroupOfUnitsModInt(6)\n",
    "G.table()"
   ]
  },
  {
   "cell_type": "markdown",
   "metadata": {},
   "source": [
    "## Roots of Unit Group"
   ]
  },
  {
   "cell_type": "markdown",
   "metadata": {},
   "source": [
    "The roots of unit group is defined by the following class:"
   ]
  },
  {
   "cell_type": "code",
   "execution_count": 71,
   "metadata": {},
   "outputs": [],
   "source": [
    "G = RootsOfUnitGroup(6)"
   ]
  },
  {
   "cell_type": "code",
   "execution_count": 72,
   "metadata": {},
   "outputs": [
    {
     "data": {
      "text/plain": [
       "[(0.5,-0.866j), (1.0), (0.5,0.866j), (-0.5,-0.866j), (-0.5,0.866j), (-1.0)]"
      ]
     },
     "execution_count": 72,
     "metadata": {},
     "output_type": "execute_result"
    }
   ],
   "source": [
    "list(G.Set)"
   ]
  },
  {
   "cell_type": "markdown",
   "metadata": {},
   "source": [
    "We can represent the roots in the complex plane:"
   ]
  },
  {
   "cell_type": "code",
   "execution_count": 73,
   "metadata": {},
   "outputs": [
    {
     "data": {
      "image/png": "[encoded data removed]",
      "text/plain": [
       "<Figure size 432x288 with 1 Axes>"
      ]
     },
     "metadata": {
      "needs_background": "light"
     },
     "output_type": "display_data"
    }
   ],
   "source": [
    "plot(G)"
   ]
  },
  {
   "cell_type": "code",
   "execution_count": 74,
   "metadata": {},
   "outputs": [
    {
     "data": {
      "image/png": "[encoded data removed]",
      "text/plain": [
       "<Figure size 432x288 with 1 Axes>"
      ]
     },
     "metadata": {
      "needs_background": "light"
     },
     "output_type": "display_data"
    }
   ],
   "source": [
    "plot(G, mode=\"binom\")"
   ]
  },
  {
   "cell_type": "markdown",
   "metadata": {},
   "source": [
    "## Dihedral Group"
   ]
  },
  {
   "cell_type": "markdown",
   "metadata": {},
   "source": [
    "Another important subgroup of the $S_n$ is the dihedral group of movements that leave invariant an $n$-gon centered in the origin. This group can be represented either by permutations, matrix or by symmetries and rotations that are isomorphic.\n"
   ]
  },
  {
   "cell_type": "code",
   "execution_count": 75,
   "metadata": {},
   "outputs": [
    {
     "name": "stdout",
     "output_type": "stream",
     "text": [
      "Rotaciones: \n",
      "(1.0, -0.0, 0.0, 1.0)\n",
      "(0.0, -1.0, 1.0, 0.0)\n",
      "(-1.0, -0.0, 0.0, -1.0)\n",
      "(-0.0, 1.0, -1.0, -0.0)\n",
      "\n",
      "Reflexiones \n",
      "(1.0, 0.0, 0.0, -1.0)\n",
      "(0.0, 1.0, 1.0, -0.0)\n",
      "(-1.0, 0.0, 0.0, 1.0)\n",
      "(-0.0, -1.0, -1.0, 0.0)\n",
      "\n"
     ]
    }
   ],
   "source": [
    "D4 = Dihedral(4)\n",
    "print(D4)"
   ]
  },
  {
   "cell_type": "code",
   "execution_count": 76,
   "metadata": {},
   "outputs": [
    {
     "name": "stdout",
     "output_type": "stream",
     "text": [
      "Group with 6 elements: {'R0', 'S1', 'R2', 'R1', 'S2', 'S0'}\n"
     ]
    }
   ],
   "source": [
    "D = DihedralGroup(3, rep='RS')\n",
    "print(D)"
   ]
  },
  {
   "cell_type": "code",
   "execution_count": 77,
   "metadata": {},
   "outputs": [
    {
     "data": {
      "text/html": [
       "<head><style>\n",
       "table, th, td {border: 1px solid black;\n",
       " border-collapse: collapse;}\n",
       " th, td {padding: 15px;}</style></head><p/>\n",
       " <table>\n",
       " <tr> <td bgcolor='White'> * </td> <td bgcolor=Red>'R0'</td> <td bgcolor=Yellow>'S1'</td> <td bgcolor=Lime>'R1'</td> <td bgcolor=Blue>'S0'</td> <td bgcolor=Tan>'R2'</td> <td bgcolor=YellowGreen>'S2'</td> </tr>\n",
       "<tr> <td bgcolor=Red> 'R0'  </td> <td bgcolor=Red>'R0'</td>  <td bgcolor=Yellow>'S1'</td>  <td bgcolor=Lime>'R1'</td>  <td bgcolor=Blue>'S0'</td>  <td bgcolor=Tan>'R2'</td>  <td bgcolor=YellowGreen>'S2'</td></tr>\n",
       " <tr> <td bgcolor=Yellow> 'S1'  </td> <td bgcolor=Yellow>'S1'</td>  <td bgcolor=Red>'R0'</td>  <td bgcolor=Blue>'S0'</td>  <td bgcolor=Lime>'R1'</td>  <td bgcolor=YellowGreen>'S2'</td>  <td bgcolor=Tan>'R2'</td></tr>\n",
       " <tr> <td bgcolor=Lime> 'R1'  </td> <td bgcolor=Lime>'R1'</td>  <td bgcolor=YellowGreen>'S2'</td>  <td bgcolor=Tan>'R2'</td>  <td bgcolor=Yellow>'S1'</td>  <td bgcolor=Red>'R0'</td>  <td bgcolor=Blue>'S0'</td></tr>\n",
       " <tr> <td bgcolor=Blue> 'S0'  </td> <td bgcolor=Blue>'S0'</td>  <td bgcolor=Tan>'R2'</td>  <td bgcolor=YellowGreen>'S2'</td>  <td bgcolor=Red>'R0'</td>  <td bgcolor=Yellow>'S1'</td>  <td bgcolor=Lime>'R1'</td></tr>\n",
       " <tr> <td bgcolor=Tan> 'R2'  </td> <td bgcolor=Tan>'R2'</td>  <td bgcolor=Blue>'S0'</td>  <td bgcolor=Red>'R0'</td>  <td bgcolor=YellowGreen>'S2'</td>  <td bgcolor=Lime>'R1'</td>  <td bgcolor=Yellow>'S1'</td></tr>\n",
       " <tr> <td bgcolor=YellowGreen> 'S2'  </td> <td bgcolor=YellowGreen>'S2'</td>  <td bgcolor=Lime>'R1'</td>  <td bgcolor=Yellow>'S1'</td>  <td bgcolor=Tan>'R2'</td>  <td bgcolor=Blue>'S0'</td>  <td bgcolor=Red>'R0'</td></tr>\n",
       " </table>"
      ],
      "text/plain": [
       "<IPython.core.display.HTML object>"
      ]
     },
     "metadata": {},
     "output_type": "display_data"
    }
   ],
   "source": [
    "D.table()"
   ]
  },
  {
   "cell_type": "code",
   "execution_count": 78,
   "metadata": {},
   "outputs": [],
   "source": [
    "D2 = DihedralGroup(3, rep=\"matrix\")\n",
    "D3 = DihedralGroup(3, rep=\"permutations\")"
   ]
  },
  {
   "cell_type": "code",
   "execution_count": 79,
   "metadata": {},
   "outputs": [
    {
     "data": {
      "text/plain": [
       "(True, True)"
      ]
     },
     "execution_count": 79,
     "metadata": {},
     "output_type": "execute_result"
    }
   ],
   "source": [
    "D.is_isomorphic(D2), D2.is_isomorphic(D3)"
   ]
  },
  {
   "cell_type": "markdown",
   "metadata": {},
   "source": [
    "## Groups of matrix"
   ]
  },
  {
   "cell_type": "markdown",
   "metadata": {},
   "source": [
    "We may compute GL(2,p) and SL(2,p) for p prime."
   ]
  },
  {
   "cell_type": "code",
   "execution_count": 80,
   "metadata": {},
   "outputs": [
    {
     "data": {
      "text/html": [
       "<head><style>\n",
       "table, th, td {border: 1px solid black;\n",
       " border-collapse: collapse;}\n",
       " th, td {padding: 15px;}</style></head>e = Matrix([[1, 0], [0, 1]]) &nbsp; \n",
       " a = Matrix([[1, 0], [1, 1]]) &nbsp; \n",
       " b = Matrix([[0, 1], [1, 1]]) &nbsp; \n",
       " c = Matrix([[1, 1], [0, 1]]) &nbsp; \n",
       " d = Matrix([[1, 1], [1, 0]]) &nbsp; \n",
       " f = Matrix([[0, 1], [1, 0]]) &nbsp; \n",
       "<p/>\n",
       " <table>\n",
       " <tr> <td bgcolor='White'> * </td> <td bgcolor=Red>e</td> <td bgcolor=Yellow>a</td> <td bgcolor=Lime>b</td> <td bgcolor=Blue>c</td> <td bgcolor=Tan>d</td> <td bgcolor=YellowGreen>f</td> </tr>\n",
       "<tr> <td bgcolor=Red> e  </td> <td bgcolor=Red>e</td>  <td bgcolor=Yellow>a</td>  <td bgcolor=Lime>b</td>  <td bgcolor=Blue>c</td>  <td bgcolor=Tan>d</td>  <td bgcolor=YellowGreen>f</td></tr>\n",
       " <tr> <td bgcolor=Yellow> a  </td> <td bgcolor=Yellow>a</td>  <td bgcolor=Red>e</td>  <td bgcolor=YellowGreen>f</td>  <td bgcolor=Tan>d</td>  <td bgcolor=Blue>c</td>  <td bgcolor=Lime>b</td></tr>\n",
       " <tr> <td bgcolor=Lime> b  </td> <td bgcolor=Lime>b</td>  <td bgcolor=Blue>c</td>  <td bgcolor=Tan>d</td>  <td bgcolor=YellowGreen>f</td>  <td bgcolor=Red>e</td>  <td bgcolor=Yellow>a</td></tr>\n",
       " <tr> <td bgcolor=Blue> c  </td> <td bgcolor=Blue>c</td>  <td bgcolor=Lime>b</td>  <td bgcolor=Yellow>a</td>  <td bgcolor=Red>e</td>  <td bgcolor=YellowGreen>f</td>  <td bgcolor=Tan>d</td></tr>\n",
       " <tr> <td bgcolor=Tan> d  </td> <td bgcolor=Tan>d</td>  <td bgcolor=YellowGreen>f</td>  <td bgcolor=Red>e</td>  <td bgcolor=Yellow>a</td>  <td bgcolor=Lime>b</td>  <td bgcolor=Blue>c</td></tr>\n",
       " <tr> <td bgcolor=YellowGreen> f  </td> <td bgcolor=YellowGreen>f</td>  <td bgcolor=Tan>d</td>  <td bgcolor=Blue>c</td>  <td bgcolor=Lime>b</td>  <td bgcolor=Yellow>a</td>  <td bgcolor=Red>e</td></tr>\n",
       " </table>"
      ],
      "text/plain": [
       "<IPython.core.display.HTML object>"
      ]
     },
     "metadata": {},
     "output_type": "display_data"
    }
   ],
   "source": [
    "GL2(2).table('letters')"
   ]
  },
  {
   "cell_type": "code",
   "execution_count": 81,
   "metadata": {},
   "outputs": [
    {
     "data": {
      "text/plain": [
       "24"
      ]
     },
     "execution_count": 81,
     "metadata": {},
     "output_type": "execute_result"
    }
   ],
   "source": [
    "G = SL2(3)\n",
    "G.order()"
   ]
  },
  {
   "cell_type": "markdown",
   "metadata": {},
   "source": [
    "## Cartesian product and quotients\n",
    "A way to obtain groups from others is by computing cartesian products, or quotients by normal subgroups.\n",
    "\n",
    "Let us, for instance, compute $G \\times G$ where G is the cyclic group of order 5."
   ]
  },
  {
   "cell_type": "code",
   "execution_count": 82,
   "metadata": {},
   "outputs": [],
   "source": [
    "G = CyclicGroup(5)"
   ]
  },
  {
   "cell_type": "code",
   "execution_count": 83,
   "metadata": {},
   "outputs": [],
   "source": [
    "G2 = G.cartesian(G)"
   ]
  },
  {
   "cell_type": "markdown",
   "metadata": {},
   "source": [
    "The elements of $G\\times G$ are tuples. We can as above, instanciate one of its elements."
   ]
  },
  {
   "cell_type": "code",
   "execution_count": 84,
   "metadata": {},
   "outputs": [],
   "source": [
    "one2 = G2((1,1))"
   ]
  },
  {
   "cell_type": "markdown",
   "metadata": {},
   "source": [
    "We can define the cyclic group generated by `one2`, and check that indeed is a subgroup of $G \\times G$."
   ]
  },
  {
   "cell_type": "code",
   "execution_count": 85,
   "metadata": {},
   "outputs": [
    {
     "data": {
      "text/plain": [
       "True"
      ]
     },
     "execution_count": 85,
     "metadata": {},
     "output_type": "execute_result"
    }
   ],
   "source": [
    "H = G2.generate([one2])\n",
    "H <= G2"
   ]
  },
  {
   "cell_type": "markdown",
   "metadata": {},
   "source": [
    "Contrary to what happened above, in this case `H` is not $G \\times G$ itself; this is due to the fact that $G \\times G$ is no longer cyclic. Let us compute a system of generators of $G \\times G$."
   ]
  },
  {
   "cell_type": "code",
   "execution_count": 86,
   "metadata": {},
   "outputs": [
    {
     "data": {
      "text/plain": [
       "False"
      ]
     },
     "execution_count": 86,
     "metadata": {},
     "output_type": "execute_result"
    }
   ],
   "source": [
    "H == G2"
   ]
  },
  {
   "cell_type": "code",
   "execution_count": 87,
   "metadata": {},
   "outputs": [
    {
     "data": {
      "text/plain": [
       "False"
      ]
     },
     "execution_count": 87,
     "metadata": {},
     "output_type": "execute_result"
    }
   ],
   "source": [
    "G2.is_cyclic()"
   ]
  },
  {
   "cell_type": "code",
   "execution_count": 88,
   "metadata": {},
   "outputs": [
    {
     "data": {
      "text/plain": [
       "[(0, 1), (1, 0)]"
      ]
     },
     "execution_count": 88,
     "metadata": {},
     "output_type": "execute_result"
    }
   ],
   "source": [
    "G2.generators()"
   ]
  },
  {
   "cell_type": "markdown",
   "metadata": {},
   "source": [
    "We already know that every subgroup of an abelian group is normal, and so we can compute the quotient of `G2` by `H`."
   ]
  },
  {
   "cell_type": "code",
   "execution_count": 89,
   "metadata": {
    "scrolled": true
   },
   "outputs": [
    {
     "data": {
      "text/plain": [
       "Group with 5 elements"
      ]
     },
     "execution_count": 89,
     "metadata": {},
     "output_type": "execute_result"
    }
   ],
   "source": [
    "G2/H"
   ]
  },
  {
   "cell_type": "markdown",
   "metadata": {},
   "source": [
    "Its elements are congruency classes, and this is why when listing them, we get a lists of sets."
   ]
  },
  {
   "cell_type": "code",
   "execution_count": 90,
   "metadata": {},
   "outputs": [
    {
     "data": {
      "text/plain": [
       "[{(4, 4), (3, 3), (2, 2), (0, 0), (1, 1)},\n",
       " {(0, 1), (2, 3), (1, 2), (4, 0), (3, 4)},\n",
       " {(1, 3), (2, 4), (0, 2), (4, 1), (3, 0)},\n",
       " {(4, 2), (3, 1), (0, 3), (2, 0), (1, 4)},\n",
       " {(0, 4), (2, 1), (4, 3), (1, 0), (3, 2)}]"
      ]
     },
     "execution_count": 90,
     "metadata": {},
     "output_type": "execute_result"
    }
   ],
   "source": [
    "Q = G2/H\n",
    "list(Q)"
   ]
  },
  {
   "cell_type": "code",
   "execution_count": 91,
   "metadata": {},
   "outputs": [
    {
     "data": {
      "text/plain": [
       "True"
      ]
     },
     "execution_count": 91,
     "metadata": {},
     "output_type": "execute_result"
    }
   ],
   "source": [
    "Q.is_abelian()"
   ]
  },
  {
   "cell_type": "code",
   "execution_count": 92,
   "metadata": {},
   "outputs": [
    {
     "data": {
      "text/plain": [
       "True"
      ]
     },
     "execution_count": 92,
     "metadata": {},
     "output_type": "execute_result"
    }
   ],
   "source": [
    "Q.is_cyclic()"
   ]
  },
  {
   "cell_type": "markdown",
   "metadata": {},
   "source": [
    "## Group homomorphisms"
   ]
  },
  {
   "cell_type": "markdown",
   "metadata": {},
   "source": [
    "In order to define a group homomorphism, we have to provide the domain, codomain and a function that fulfills that is a group morphism"
   ]
  },
  {
   "cell_type": "code",
   "execution_count": 93,
   "metadata": {},
   "outputs": [],
   "source": [
    "G = CyclicGroup(3)\n",
    "H = G.cartesian(G)\n",
    "f = GroupHomomorphism(H,G, lambda x:G(x.elem[1]))"
   ]
  },
  {
   "cell_type": "markdown",
   "metadata": {},
   "source": [
    "We can compute the kernel, or check wether or not it is injective, surjective or and isomorphism"
   ]
  },
  {
   "cell_type": "code",
   "execution_count": 94,
   "metadata": {},
   "outputs": [
    {
     "data": {
      "text/plain": [
       "Group( [(1, 0), (2, 0), (0, 0)] )"
      ]
     },
     "execution_count": 94,
     "metadata": {},
     "output_type": "execute_result"
    }
   ],
   "source": [
    "f.kernel()"
   ]
  },
  {
   "cell_type": "code",
   "execution_count": 95,
   "metadata": {},
   "outputs": [
    {
     "data": {
      "text/plain": [
       "False"
      ]
     },
     "execution_count": 95,
     "metadata": {},
     "output_type": "execute_result"
    }
   ],
   "source": [
    "f.is_bijective()"
   ]
  },
  {
   "cell_type": "code",
   "execution_count": 96,
   "metadata": {
    "scrolled": true
   },
   "outputs": [
    {
     "data": {
      "text/plain": [
       "True"
      ]
     },
     "execution_count": 96,
     "metadata": {},
     "output_type": "execute_result"
    }
   ],
   "source": [
    "f.is_surjective()"
   ]
  },
  {
   "cell_type": "code",
   "execution_count": 97,
   "metadata": {},
   "outputs": [],
   "source": [
    "G = CyclicGroup(6)\n",
    "f = GroupHomomorphism(G,G, lambda x:2*x)"
   ]
  },
  {
   "cell_type": "code",
   "execution_count": 98,
   "metadata": {},
   "outputs": [
    {
     "data": {
      "text/plain": [
       "False"
      ]
     },
     "execution_count": 98,
     "metadata": {},
     "output_type": "execute_result"
    }
   ],
   "source": [
    "f.is_injective()"
   ]
  },
  {
   "cell_type": "code",
   "execution_count": 99,
   "metadata": {},
   "outputs": [
    {
     "data": {
      "text/plain": [
       "[0, 3]"
      ]
     },
     "execution_count": 99,
     "metadata": {},
     "output_type": "execute_result"
    }
   ],
   "source": [
    "list(f.kernel())"
   ]
  },
  {
   "cell_type": "code",
   "execution_count": 100,
   "metadata": {},
   "outputs": [
    {
     "data": {
      "text/plain": [
       "2"
      ]
     },
     "execution_count": 100,
     "metadata": {},
     "output_type": "execute_result"
    }
   ],
   "source": [
    "f.function(G(1))"
   ]
  },
  {
   "cell_type": "markdown",
   "metadata": {},
   "source": [
    "Also we can compute this as follows."
   ]
  },
  {
   "cell_type": "code",
   "execution_count": 101,
   "metadata": {
    "scrolled": true
   },
   "outputs": [
    {
     "data": {
      "text/plain": [
       "4"
      ]
     },
     "execution_count": 101,
     "metadata": {},
     "output_type": "execute_result"
    }
   ],
   "source": [
    "f(G(2))"
   ]
  },
  {
   "cell_type": "markdown",
   "metadata": {},
   "source": [
    "For compute a list of all the homomorphisms between two groups:"
   ]
  },
  {
   "cell_type": "code",
   "execution_count": 102,
   "metadata": {},
   "outputs": [
    {
     "data": {
      "text/plain": [
       "[Group homomorphism,\n",
       " Group homomorphism,\n",
       " Group homomorphism,\n",
       " Group homomorphism,\n",
       " Group homomorphism,\n",
       " Group homomorphism]"
      ]
     },
     "execution_count": 102,
     "metadata": {},
     "output_type": "execute_result"
    }
   ],
   "source": [
    "G = CyclicGroup(18)\n",
    "H = CyclicGroup(30)\n",
    "Hom = G.AllHomomorphisms(H)\n",
    "Hom"
   ]
  },
  {
   "cell_type": "markdown",
   "metadata": {},
   "source": [
    "Also we can compute the group of automorphisms of a group."
   ]
  },
  {
   "cell_type": "code",
   "execution_count": 103,
   "metadata": {},
   "outputs": [
    {
     "data": {
      "text/plain": [
       "Group( [Group endomorphism, Group endomorphism, Group endomorphism, Group endomorphism] )"
      ]
     },
     "execution_count": 103,
     "metadata": {},
     "output_type": "execute_result"
    }
   ],
   "source": [
    "G = CyclicGroup(5)\n",
    "Aut = G.AutomorphismGroup()\n",
    "Aut"
   ]
  },
  {
   "cell_type": "code",
   "execution_count": 104,
   "metadata": {},
   "outputs": [
    {
     "data": {
      "text/html": [
       "<head><style>\n",
       "table, th, td {border: 1px solid black;\n",
       " border-collapse: collapse;}\n",
       " th, td {padding: 15px;}</style></head>e = Group endomorphism of Group with 5 elements: {0, 1, 2, 3, 4} &nbsp; \n",
       " a = Group endomorphism of Group with 5 elements: {0, 1, 2, 3, 4} &nbsp; \n",
       " b = Group endomorphism of Group with 5 elements: {0, 1, 2, 3, 4} &nbsp; \n",
       " c = Group endomorphism of Group with 5 elements: {0, 1, 2, 3, 4} &nbsp; \n",
       "<p/>\n",
       " <table>\n",
       " <tr> <td bgcolor='White'> * </td> <td bgcolor=Red>e</td> <td bgcolor=Yellow>a</td> <td bgcolor=Lime>b</td> <td bgcolor=Blue>c</td> </tr>\n",
       "<tr> <td bgcolor=Red> e  </td> <td bgcolor=Red>e</td>  <td bgcolor=Yellow>a</td>  <td bgcolor=Lime>b</td>  <td bgcolor=Blue>c</td></tr>\n",
       " <tr> <td bgcolor=Yellow> a  </td> <td bgcolor=Yellow>a</td>  <td bgcolor=Lime>b</td>  <td bgcolor=Blue>c</td>  <td bgcolor=Red>e</td></tr>\n",
       " <tr> <td bgcolor=Lime> b  </td> <td bgcolor=Lime>b</td>  <td bgcolor=Blue>c</td>  <td bgcolor=Red>e</td>  <td bgcolor=Yellow>a</td></tr>\n",
       " <tr> <td bgcolor=Blue> c  </td> <td bgcolor=Blue>c</td>  <td bgcolor=Red>e</td>  <td bgcolor=Yellow>a</td>  <td bgcolor=Lime>b</td></tr>\n",
       " </table>"
      ],
      "text/plain": [
       "<IPython.core.display.HTML object>"
      ]
     },
     "metadata": {},
     "output_type": "display_data"
    }
   ],
   "source": [
    "Aut.table('letters')"
   ]
  },
  {
   "cell_type": "code",
   "execution_count": 105,
   "metadata": {},
   "outputs": [
    {
     "data": {
      "text/plain": [
       "True"
      ]
     },
     "execution_count": 105,
     "metadata": {},
     "output_type": "execute_result"
    }
   ],
   "source": [
    "Aut.is_isomorphic(GroupOfUnitsModInt(5))"
   ]
  },
  {
   "cell_type": "markdown",
   "metadata": {},
   "source": [
    "As example, we will construct the semidirect product $C_5 \\rtimes C_2$."
   ]
  },
  {
   "cell_type": "code",
   "execution_count": 106,
   "metadata": {},
   "outputs": [],
   "source": [
    "B = CyclicGroup(2)\n",
    "A = CyclicGroup(5)"
   ]
  },
  {
   "cell_type": "markdown",
   "metadata": {},
   "source": [
    "Thus, we just need to compute the differents $\\varphi \\colon C_2 \\to \\operatorname{Aut}(C_5)$"
   ]
  },
  {
   "cell_type": "code",
   "execution_count": 107,
   "metadata": {},
   "outputs": [
    {
     "data": {
      "text/plain": [
       "[Group homomorphism, Group homomorphism]"
      ]
     },
     "execution_count": 107,
     "metadata": {},
     "output_type": "execute_result"
    }
   ],
   "source": [
    "AutA = A.AutomorphismGroup()\n",
    "Hom = B.AllHomomorphisms(AutA)\n",
    "Hom"
   ]
  },
  {
   "cell_type": "markdown",
   "metadata": {},
   "source": [
    "Each homomorphism will give a semidirect product. The trivial homomorphism $\\varphi$ gives the direct product while non trivial homomorphism gives differents groups."
   ]
  },
  {
   "cell_type": "code",
   "execution_count": 108,
   "metadata": {},
   "outputs": [],
   "source": [
    "hom0=GroupHomomorphism(B,AutA,lambda x:Hom[1](x),check_morphism_axioms=True)"
   ]
  },
  {
   "cell_type": "code",
   "execution_count": 109,
   "metadata": {},
   "outputs": [],
   "source": [
    "SP0=A.semidirect_product(B,hom0)"
   ]
  },
  {
   "cell_type": "code",
   "execution_count": 110,
   "metadata": {},
   "outputs": [
    {
     "data": {
      "text/html": [
       "<head><style>\n",
       "table, th, td {border: 1px solid black;\n",
       " border-collapse: collapse;}\n",
       " th, td {padding: 15px;}</style></head><p/>\n",
       " <table>\n",
       " <tr> <td bgcolor='White'> * </td> <td bgcolor=Red>(0, 0)</td> <td bgcolor=Yellow>(0, 1)</td> <td bgcolor=Lime>(4, 0)</td> <td bgcolor=Blue>(2, 1)</td> <td bgcolor=Tan>(3, 1)</td> <td bgcolor=YellowGreen>(1, 1)</td> <td bgcolor=Violet>(2, 0)</td> <td bgcolor=SkyBlue>(3, 0)</td> <td bgcolor=Tomato>(1, 0)</td> <td bgcolor=Plum>(4, 1)</td> </tr>\n",
       "<tr> <td bgcolor=Red> (0, 0)  </td> <td bgcolor=Red>(0, 0)</td>  <td bgcolor=Yellow>(0, 1)</td>  <td bgcolor=Lime>(4, 0)</td>  <td bgcolor=Blue>(2, 1)</td>  <td bgcolor=Tan>(3, 1)</td>  <td bgcolor=YellowGreen>(1, 1)</td>  <td bgcolor=Violet>(2, 0)</td>  <td bgcolor=SkyBlue>(3, 0)</td>  <td bgcolor=Tomato>(1, 0)</td>  <td bgcolor=Plum>(4, 1)</td></tr>\n",
       " <tr> <td bgcolor=Yellow> (0, 1)  </td> <td bgcolor=Yellow>(0, 1)</td>  <td bgcolor=Red>(0, 0)</td>  <td bgcolor=YellowGreen>(1, 1)</td>  <td bgcolor=SkyBlue>(3, 0)</td>  <td bgcolor=Violet>(2, 0)</td>  <td bgcolor=Lime>(4, 0)</td>  <td bgcolor=Tan>(3, 1)</td>  <td bgcolor=Blue>(2, 1)</td>  <td bgcolor=Plum>(4, 1)</td>  <td bgcolor=Tomato>(1, 0)</td></tr>\n",
       " <tr> <td bgcolor=Lime> (4, 0)  </td> <td bgcolor=Lime>(4, 0)</td>  <td bgcolor=Plum>(4, 1)</td>  <td bgcolor=SkyBlue>(3, 0)</td>  <td bgcolor=YellowGreen>(1, 1)</td>  <td bgcolor=Blue>(2, 1)</td>  <td bgcolor=Yellow>(0, 1)</td>  <td bgcolor=Tomato>(1, 0)</td>  <td bgcolor=Violet>(2, 0)</td>  <td bgcolor=Red>(0, 0)</td>  <td bgcolor=Tan>(3, 1)</td></tr>\n",
       " <tr> <td bgcolor=Blue> (2, 1)  </td> <td bgcolor=Blue>(2, 1)</td>  <td bgcolor=Violet>(2, 0)</td>  <td bgcolor=Tan>(3, 1)</td>  <td bgcolor=Red>(0, 0)</td>  <td bgcolor=Lime>(4, 0)</td>  <td bgcolor=Tomato>(1, 0)</td>  <td bgcolor=Yellow>(0, 1)</td>  <td bgcolor=Plum>(4, 1)</td>  <td bgcolor=YellowGreen>(1, 1)</td>  <td bgcolor=SkyBlue>(3, 0)</td></tr>\n",
       " <tr> <td bgcolor=Tan> (3, 1)  </td> <td bgcolor=Tan>(3, 1)</td>  <td bgcolor=SkyBlue>(3, 0)</td>  <td bgcolor=Plum>(4, 1)</td>  <td bgcolor=Tomato>(1, 0)</td>  <td bgcolor=Red>(0, 0)</td>  <td bgcolor=Violet>(2, 0)</td>  <td bgcolor=YellowGreen>(1, 1)</td>  <td bgcolor=Yellow>(0, 1)</td>  <td bgcolor=Blue>(2, 1)</td>  <td bgcolor=Lime>(4, 0)</td></tr>\n",
       " <tr> <td bgcolor=YellowGreen> (1, 1)  </td> <td bgcolor=YellowGreen>(1, 1)</td>  <td bgcolor=Tomato>(1, 0)</td>  <td bgcolor=Blue>(2, 1)</td>  <td bgcolor=Lime>(4, 0)</td>  <td bgcolor=SkyBlue>(3, 0)</td>  <td bgcolor=Red>(0, 0)</td>  <td bgcolor=Plum>(4, 1)</td>  <td bgcolor=Tan>(3, 1)</td>  <td bgcolor=Yellow>(0, 1)</td>  <td bgcolor=Violet>(2, 0)</td></tr>\n",
       " <tr> <td bgcolor=Violet> (2, 0)  </td> <td bgcolor=Violet>(2, 0)</td>  <td bgcolor=Blue>(2, 1)</td>  <td bgcolor=Tomato>(1, 0)</td>  <td bgcolor=Plum>(4, 1)</td>  <td bgcolor=Yellow>(0, 1)</td>  <td bgcolor=Tan>(3, 1)</td>  <td bgcolor=Lime>(4, 0)</td>  <td bgcolor=Red>(0, 0)</td>  <td bgcolor=SkyBlue>(3, 0)</td>  <td bgcolor=YellowGreen>(1, 1)</td></tr>\n",
       " <tr> <td bgcolor=SkyBlue> (3, 0)  </td> <td bgcolor=SkyBlue>(3, 0)</td>  <td bgcolor=Tan>(3, 1)</td>  <td bgcolor=Violet>(2, 0)</td>  <td bgcolor=Yellow>(0, 1)</td>  <td bgcolor=YellowGreen>(1, 1)</td>  <td bgcolor=Plum>(4, 1)</td>  <td bgcolor=Red>(0, 0)</td>  <td bgcolor=Tomato>(1, 0)</td>  <td bgcolor=Lime>(4, 0)</td>  <td bgcolor=Blue>(2, 1)</td></tr>\n",
       " <tr> <td bgcolor=Tomato> (1, 0)  </td> <td bgcolor=Tomato>(1, 0)</td>  <td bgcolor=YellowGreen>(1, 1)</td>  <td bgcolor=Red>(0, 0)</td>  <td bgcolor=Tan>(3, 1)</td>  <td bgcolor=Plum>(4, 1)</td>  <td bgcolor=Blue>(2, 1)</td>  <td bgcolor=SkyBlue>(3, 0)</td>  <td bgcolor=Lime>(4, 0)</td>  <td bgcolor=Violet>(2, 0)</td>  <td bgcolor=Yellow>(0, 1)</td></tr>\n",
       " <tr> <td bgcolor=Plum> (4, 1)  </td> <td bgcolor=Plum>(4, 1)</td>  <td bgcolor=Lime>(4, 0)</td>  <td bgcolor=Yellow>(0, 1)</td>  <td bgcolor=Violet>(2, 0)</td>  <td bgcolor=Tomato>(1, 0)</td>  <td bgcolor=SkyBlue>(3, 0)</td>  <td bgcolor=Blue>(2, 1)</td>  <td bgcolor=YellowGreen>(1, 1)</td>  <td bgcolor=Tan>(3, 1)</td>  <td bgcolor=Red>(0, 0)</td></tr>\n",
       " </table>"
      ],
      "text/plain": [
       "<IPython.core.display.HTML object>"
      ]
     },
     "metadata": {},
     "output_type": "display_data"
    }
   ],
   "source": [
    "SP0.table()"
   ]
  },
  {
   "cell_type": "markdown",
   "metadata": {},
   "source": [
    "Let's see that $D_5 \\cong C_5 \\rtimes C_2$ when the action is non trivial. "
   ]
  },
  {
   "cell_type": "code",
   "execution_count": 111,
   "metadata": {},
   "outputs": [
    {
     "data": {
      "text/plain": [
       "True"
      ]
     },
     "execution_count": 111,
     "metadata": {},
     "output_type": "execute_result"
    }
   ],
   "source": [
    "SP0.is_isomorphic(DihedralGroup(5))"
   ]
  },
  {
   "cell_type": "markdown",
   "metadata": {},
   "source": [
    "Now, we will check that $C_5 \\times C_2 \\cong C_5 \\rtimes C_2$ when the action is trivial."
   ]
  },
  {
   "cell_type": "code",
   "execution_count": 112,
   "metadata": {},
   "outputs": [],
   "source": [
    "hom1=GroupHomomorphism(B,AutA,lambda x:Hom[0](x),check_morphism_axioms=True)\n",
    "SP1=A.semidirect_product(B,hom1)"
   ]
  },
  {
   "cell_type": "code",
   "execution_count": 113,
   "metadata": {},
   "outputs": [
    {
     "data": {
      "text/plain": [
       "True"
      ]
     },
     "execution_count": 113,
     "metadata": {},
     "output_type": "execute_result"
    }
   ],
   "source": [
    "CyclicGroup(5).cartesian(CyclicGroup(2)).is_isomorphic(SP1)"
   ]
  },
  {
   "cell_type": "markdown",
   "metadata": {},
   "source": [
    "## Product and intersection of subgroups\n",
    "Product and intersection of subgroups of a group $G$ are again subgroups of $G$"
   ]
  },
  {
   "cell_type": "code",
   "execution_count": 114,
   "metadata": {
    "scrolled": false
   },
   "outputs": [
    {
     "data": {
      "text/plain": [
       "[(),\n",
       " (1, 2, 3, 4),\n",
       " (1, 2)(3, 4),\n",
       " (1, 4, 3, 2),\n",
       " (1, 4)(2, 3),\n",
       " (2, 4),\n",
       " (1, 3),\n",
       " (1, 3)(2, 4)]"
      ]
     },
     "execution_count": 114,
     "metadata": {},
     "output_type": "execute_result"
    }
   ],
   "source": [
    "Dp4=DihedralGroup(4,\"permutations\")\n",
    "list(Dp4)"
   ]
  },
  {
   "cell_type": "code",
   "execution_count": 115,
   "metadata": {},
   "outputs": [
    {
     "data": {
      "text/plain": [
       "Group( [(1, 3, 2, 4), (1, 3, 4, 2), (3, 4), (1, 2, 4, 3)] )"
      ]
     },
     "execution_count": 115,
     "metadata": {},
     "output_type": "execute_result"
    }
   ],
   "source": [
    "A4=AlternatingGroup(4)\n",
    "A4*Dp4"
   ]
  },
  {
   "cell_type": "code",
   "execution_count": 116,
   "metadata": {},
   "outputs": [
    {
     "data": {
      "text/plain": [
       "[(), (1, 2)(3, 4), (1, 4)(2, 3), (1, 3)(2, 4)]"
      ]
     },
     "execution_count": 116,
     "metadata": {},
     "output_type": "execute_result"
    }
   ],
   "source": [
    "list(A4.intersection(Dp4))"
   ]
  },
  {
   "cell_type": "markdown",
   "metadata": {},
   "source": [
    "We can for instance, illustrate the third isometry theorem: $KN/N\\cong K/(K\\cap N)$."
   ]
  },
  {
   "cell_type": "code",
   "execution_count": 117,
   "metadata": {},
   "outputs": [
    {
     "data": {
      "text/plain": [
       "True"
      ]
     },
     "execution_count": 117,
     "metadata": {},
     "output_type": "execute_result"
    }
   ],
   "source": [
    "Q1=(A4*Dp4)/A4\n",
    "Q2=Dp4/(A4.intersection(Dp4))\n",
    "Q1.is_isomorphic(Q2)"
   ]
  },
  {
   "cell_type": "markdown",
   "metadata": {},
   "source": [
    "We can define also $Q_2$ by means of permutations"
   ]
  },
  {
   "cell_type": "code",
   "execution_count": 118,
   "metadata": {},
   "outputs": [],
   "source": [
    "PQ2=QuaternionGroup(\"permutations\")"
   ]
  },
  {
   "cell_type": "code",
   "execution_count": 119,
   "metadata": {},
   "outputs": [
    {
     "data": {
      "text/plain": [
       "{(1, 4, 3, 2)(5, 7, 8, 6), (1, 7, 3, 6)(2, 8, 4, 5), (1, 8, 3, 5)(2, 6, 4, 7), (1, 6, 3, 7)(2, 5, 4, 8), (1, 2, 3, 4)(5, 6, 8, 7), (1, 5, 3, 8)(2, 7, 4, 6), (), (1, 3)(2, 4)(5, 8)(6, 7)}"
      ]
     },
     "execution_count": 119,
     "metadata": {},
     "output_type": "execute_result"
    }
   ],
   "source": [
    "PQ2.group_elems"
   ]
  },
  {
   "cell_type": "code",
   "execution_count": 120,
   "metadata": {},
   "outputs": [
    {
     "data": {
      "text/plain": [
       "False"
      ]
     },
     "execution_count": 120,
     "metadata": {},
     "output_type": "execute_result"
    }
   ],
   "source": [
    "PQ2.is_isomorphic(Q2)"
   ]
  },
  {
   "cell_type": "markdown",
   "metadata": {},
   "source": [
    "## Drawing the lattice of subgroups\n",
    "We first load the modules and functions needed to draw."
   ]
  },
  {
   "cell_type": "markdown",
   "metadata": {},
   "source": [
    "Or we can draw the Cayley graph of $S_3$ with respect to $(1,2,3)$ and $(2,3)$"
   ]
  },
  {
   "cell_type": "code",
   "execution_count": 121,
   "metadata": {},
   "outputs": [
    {
     "data": {
      "image/png": "[encoded data removed]",
      "text/plain": [
       "<IPython.core.display.Image object>"
      ]
     },
     "metadata": {},
     "output_type": "display_data"
    }
   ],
   "source": [
    "SymmetricGroup(3).CayleyGraph()"
   ]
  },
  {
   "cell_type": "code",
   "execution_count": 122,
   "metadata": {},
   "outputs": [
    {
     "data": {
      "image/png": "[encoded data removed]",
      "text/plain": [
       "<IPython.core.display.Image object>"
      ]
     },
     "metadata": {},
     "output_type": "display_data"
    }
   ],
   "source": [
    "DihedralGroup(4).CayleyGraph()"
   ]
  },
  {
   "cell_type": "code",
   "execution_count": 123,
   "metadata": {},
   "outputs": [
    {
     "data": {
      "text/html": [
       " <TABLE BORDER=\"0\" CELLBORDER=\"1\" CELLSPACING=\"0\" CELLPADDING=\"4\"> <TR><TD COLSPAN=\"2\"><B>Subgroups</B></TD></TR><tr><td>A</td><td>{0, 1, 2, 3}</td></tr><tr><td>B</td><td>{0}</td></tr><tr><td>C</td><td>{0, 2}</td></tr></TABLE> "
      ],
      "text/plain": [
       "<IPython.core.display.HTML object>"
      ]
     },
     "metadata": {},
     "output_type": "display_data"
    },
    {
     "data": {
      "image/png": "[encoded data removed]",
      "text/plain": [
       "<IPython.core.display.Image object>"
      ]
     },
     "metadata": {},
     "output_type": "display_data"
    }
   ],
   "source": [
    "CyclicGroup(4).group_lattice()"
   ]
  },
  {
   "cell_type": "code",
   "execution_count": 124,
   "metadata": {},
   "outputs": [
    {
     "data": {
      "text/html": [
       " <TABLE BORDER=\"0\" CELLBORDER=\"1\" CELLSPACING=\"0\" CELLPADDING=\"4\"> <TR><TD COLSPAN=\"2\"><B>Subgroups</B></TD></TR><tr><td>A</td><td>{(0, 1), (1, 2), (2, 1), (0, 0), (3, 1), (1, 1), (2, 0), (3, 0), (0, 2), (2, 2), (1, 0), (3, 2)}</td></tr><tr><td>B</td><td>{(0, 0)}</td></tr><tr><td>C</td><td>{(2, 0), (0, 0)}</td></tr><tr><td>D</td><td>{(0, 1), (0, 2), (0, 0)}</td></tr><tr><td>E</td><td>{(1, 0), (2, 0), (0, 0), (3, 0)}</td></tr><tr><td>F</td><td>{(0, 1), (0, 2), (2, 2), (2, 1), (0, 0), (2, 0)}</td></tr></TABLE> "
      ],
      "text/plain": [
       "<IPython.core.display.HTML object>"
      ]
     },
     "metadata": {},
     "output_type": "display_data"
    },
    {
     "data": {
      "image/png": "[encoded data removed]",
      "text/plain": [
       "<IPython.core.display.Image object>"
      ]
     },
     "metadata": {},
     "output_type": "display_data"
    }
   ],
   "source": [
    "CyclicGroup(4).cartesian(CyclicGroup(3)).group_lattice()"
   ]
  },
  {
   "cell_type": "code",
   "execution_count": 125,
   "metadata": {},
   "outputs": [
    {
     "data": {
      "text/html": [
       " <TABLE BORDER=\"0\" CELLBORDER=\"1\" CELLSPACING=\"0\" CELLPADDING=\"4\"> <TR><TD COLSPAN=\"2\"><B>Subgroups</B></TD></TR><tr><td>A</td><td>{(1, 3), (2, 3), (1, 3, 2), (1, 2, 3), (), (1, 2)}</td></tr><tr><td>B</td><td>{()}</td></tr><tr><td>C</td><td>{(2, 3), ()}</td></tr><tr><td>D</td><td>{(1, 3), ()}</td></tr><tr><td>E</td><td>{(), (1, 2)}</td></tr><tr><td>F</td><td>{(1, 2, 3), (), (1, 3, 2)}</td></tr></TABLE> "
      ],
      "text/plain": [
       "<IPython.core.display.HTML object>"
      ]
     },
     "metadata": {},
     "output_type": "display_data"
    },
    {
     "data": {
      "image/png": "[encoded data removed]",
      "text/plain": [
       "<IPython.core.display.Image object>"
      ]
     },
     "metadata": {},
     "output_type": "display_data"
    }
   ],
   "source": [
    "SymmetricGroup(3).group_lattice()"
   ]
  },
  {
   "cell_type": "code",
   "execution_count": 126,
   "metadata": {},
   "outputs": [
    {
     "data": {
      "text/html": [
       " <TABLE BORDER=\"0\" CELLBORDER=\"1\" CELLSPACING=\"0\" CELLPADDING=\"4\"> <TR><TD COLSPAN=\"2\"><B>Subgroups</B></TD></TR><tr><td>A</td><td>{'S1', 'S3', 'R1', 'S0', 'R3', 'R0', 'R2', 'S2'}</td></tr><tr><td>B</td><td>{'R0'}</td></tr><tr><td>C</td><td>{'R0', 'S0'}</td></tr><tr><td>D</td><td>{'R0', 'R2'}</td></tr><tr><td>E</td><td>{'R0', 'S3'}</td></tr><tr><td>F</td><td>{'R0', 'S1'}</td></tr><tr><td>G</td><td>{'R0', 'S2'}</td></tr><tr><td>H</td><td>{'R0', 'R2', 'R1', 'R3'}</td></tr><tr><td>I</td><td>{'R0', 'R2', 'S2', 'S0'}</td></tr><tr><td>J</td><td>{'R0', 'S1', 'S3', 'R2'}</td></tr></TABLE> "
      ],
      "text/plain": [
       "<IPython.core.display.HTML object>"
      ]
     },
     "metadata": {},
     "output_type": "display_data"
    },
    {
     "data": {
      "image/png": "[encoded data removed]",
      "text/plain": [
       "<IPython.core.display.Image object>"
      ]
     },
     "metadata": {},
     "output_type": "display_data"
    }
   ],
   "source": [
    "DihedralGroup(4).group_lattice()"
   ]
  },
  {
   "cell_type": "markdown",
   "metadata": {},
   "source": [
    "## Lateral classes, conjugacy classes and center"
   ]
  },
  {
   "cell_type": "markdown",
   "metadata": {},
   "source": [
    "Lateral classes are easy to construct; they are considered as sets."
   ]
  },
  {
   "cell_type": "code",
   "execution_count": 127,
   "metadata": {},
   "outputs": [
    {
     "data": {
      "text/plain": [
       "{(1, 2, 3, 4), (2, 4), (1, 2, 4, 3), (2, 3), (1, 4, 2, 3), (1, 3, 2, 4), (3, 4), (1, 4, 3, 2), (1, 4), (1, 2), (1, 3), (1, 3, 4, 2)}"
      ]
     },
     "execution_count": 127,
     "metadata": {},
     "output_type": "execute_result"
    }
   ],
   "source": [
    "S4=SymmetricGroup(4)\n",
    "p=S4(permutation([2,3,4,1]))\n",
    "p*A4"
   ]
  },
  {
   "cell_type": "code",
   "execution_count": 128,
   "metadata": {
    "scrolled": true
   },
   "outputs": [
    {
     "data": {
      "text/plain": [
       "{(1, 2, 3, 4), (2, 4), (1, 2, 4, 3), (1, 4, 2, 3), (2, 3), (1, 3, 2, 4), (3, 4), (1, 4, 3, 2), (1, 4), (1, 2), (1, 3), (1, 3, 4, 2)}"
      ]
     },
     "execution_count": 128,
     "metadata": {},
     "output_type": "execute_result"
    }
   ],
   "source": [
    "A4*p"
   ]
  },
  {
   "cell_type": "markdown",
   "metadata": {},
   "source": [
    "We can also calculate all cosets."
   ]
  },
  {
   "cell_type": "code",
   "execution_count": 129,
   "metadata": {
    "scrolled": true
   },
   "outputs": [
    {
     "data": {
      "text/plain": [
       "[{(),\n",
       "  (1, 2)(3, 4),\n",
       "  (1, 2, 3),\n",
       "  (1, 2, 4),\n",
       "  (1, 3)(2, 4),\n",
       "  (1, 3, 2),\n",
       "  (1, 3, 4),\n",
       "  (1, 4)(2, 3),\n",
       "  (1, 4, 2),\n",
       "  (1, 4, 3),\n",
       "  (2, 3, 4),\n",
       "  (2, 4, 3)},\n",
       " {(1, 2),\n",
       "  (1, 2, 3, 4),\n",
       "  (1, 2, 4, 3),\n",
       "  (1, 3),\n",
       "  (1, 3, 2, 4),\n",
       "  (1, 3, 4, 2),\n",
       "  (1, 4),\n",
       "  (1, 4, 2, 3),\n",
       "  (1, 4, 3, 2),\n",
       "  (2, 3),\n",
       "  (2, 4),\n",
       "  (3, 4)}]"
      ]
     },
     "execution_count": 129,
     "metadata": {},
     "output_type": "execute_result"
    }
   ],
   "source": [
    "S4.cosets(A4)"
   ]
  },
  {
   "cell_type": "code",
   "execution_count": 130,
   "metadata": {
    "scrolled": true
   },
   "outputs": [
    {
     "data": {
      "text/plain": [
       "[{(),\n",
       "  (1, 2)(3, 4),\n",
       "  (1, 2, 3),\n",
       "  (1, 2, 4),\n",
       "  (1, 3)(2, 4),\n",
       "  (1, 3, 2),\n",
       "  (1, 3, 4),\n",
       "  (1, 4)(2, 3),\n",
       "  (1, 4, 2),\n",
       "  (1, 4, 3),\n",
       "  (2, 3, 4),\n",
       "  (2, 4, 3)},\n",
       " {(1, 2),\n",
       "  (1, 2, 3, 4),\n",
       "  (1, 2, 4, 3),\n",
       "  (1, 3),\n",
       "  (1, 3, 2, 4),\n",
       "  (1, 3, 4, 2),\n",
       "  (1, 4),\n",
       "  (1, 4, 2, 3),\n",
       "  (1, 4, 3, 2),\n",
       "  (2, 3),\n",
       "  (2, 4),\n",
       "  (3, 4)}]"
      ]
     },
     "execution_count": 130,
     "metadata": {},
     "output_type": "execute_result"
    }
   ],
   "source": [
    "S4.cosets(A4,\"right\")"
   ]
  },
  {
   "cell_type": "code",
   "execution_count": 131,
   "metadata": {},
   "outputs": [
    {
     "data": {
      "text/plain": [
       "2"
      ]
     },
     "execution_count": 131,
     "metadata": {},
     "output_type": "execute_result"
    }
   ],
   "source": [
    "len(_)"
   ]
  },
  {
   "cell_type": "markdown",
   "metadata": {},
   "source": [
    "For a group $G$, the conjugacy class of an element $x$ ($\\{gxg^-1\\mid g\\in G\\}$) and of a subgroup $H$ ($\\{gHg^{-1}\\mid g\\in G\\}$) can be calculated as follows."
   ]
  },
  {
   "cell_type": "code",
   "execution_count": 132,
   "metadata": {},
   "outputs": [
    {
     "data": {
      "text/plain": [
       "{(1, 3, 2, 4), (1, 2, 3, 4), (1, 4, 3, 2), (1, 2, 4, 3), (1, 4, 2, 3), (1, 3, 4, 2)}"
      ]
     },
     "execution_count": 132,
     "metadata": {},
     "output_type": "execute_result"
    }
   ],
   "source": [
    "p.conjugacy_class()"
   ]
  },
  {
   "cell_type": "markdown",
   "metadata": {},
   "source": [
    "And also the set of all conjugacy classes."
   ]
  },
  {
   "cell_type": "code",
   "execution_count": 133,
   "metadata": {},
   "outputs": [
    {
     "data": {
      "text/plain": [
       "{{(1, 2)(3, 4), (1, 4)(2, 3), (1, 3)(2, 4)},\n",
       " {(3, 4), (2, 4), (1, 4), (1, 2), (2, 3), (1, 3)},\n",
       " {(1, 3, 2, 4), (1, 2, 3, 4), (1, 4, 3, 2), (1, 2, 4, 3), (1, 4, 2, 3), (1, 3, 4, 2)},\n",
       " {(2, 4, 3), (1, 4, 3), (2, 3, 4), (1, 2, 3), (1, 3, 2), (1, 3, 4), (1, 2, 4), (1, 4, 2)},\n",
       " {()}}"
      ]
     },
     "execution_count": 133,
     "metadata": {},
     "output_type": "execute_result"
    }
   ],
   "source": [
    "S4.conjugacy_classes()"
   ]
  },
  {
   "cell_type": "markdown",
   "metadata": {},
   "source": [
    "Also for a subgroup"
   ]
  },
  {
   "cell_type": "code",
   "execution_count": 134,
   "metadata": {},
   "outputs": [
    {
     "data": {
      "text/plain": [
       "{Group( [(1, 3, 2), (1, 2)] ), Group( [(1, 4, 3), (1, 4)] ), Group( [(2, 3, 4), (3, 4)] ), Group( [(1, 2, 4), (2, 4)] )}"
      ]
     },
     "execution_count": 134,
     "metadata": {},
     "output_type": "execute_result"
    }
   ],
   "source": [
    "G=SymmetricGroup(4)\n",
    "c=G(permutation([1,3,4,2]))\n",
    "d=G(permutation([1,2,4,3]))\n",
    "H=G.generate([c,d])\n",
    "G.conjugacy_class_subgroup(H)"
   ]
  },
  {
   "cell_type": "code",
   "execution_count": 135,
   "metadata": {},
   "outputs": [
    {
     "data": {
      "text/plain": [
       "{{Group( ['R0', 'R2'] )},\n",
       " {Group( ['R0'] )},\n",
       " {Group( ['R0', 'R3'] )},\n",
       " {Group( ['R0', 'S2'] ), Group( ['R0', 'S0'] )},\n",
       " {Group( ['R0', 'S1', 'S3'] )},\n",
       " {Group( ['R3', 'S2'] )},\n",
       " {Group( ['R0', 'S1'] ), Group( ['R0', 'S3'] )},\n",
       " {Group( ['R0', 'S2', 'R2'] )}}"
      ]
     },
     "execution_count": 135,
     "metadata": {},
     "output_type": "execute_result"
    }
   ],
   "source": [
    "G=DihedralGroup(4)\n",
    "G.conjugacy_classes_subgroups()"
   ]
  },
  {
   "cell_type": "markdown",
   "metadata": {},
   "source": [
    "The normalizar of a subgroup $H$ ($\\{g\\in G\\mid gH=Hg\\}$) can be computed with `normalizer`."
   ]
  },
  {
   "cell_type": "code",
   "execution_count": 136,
   "metadata": {},
   "outputs": [
    {
     "data": {
      "text/plain": [
       "Group with 24 elements"
      ]
     },
     "execution_count": 136,
     "metadata": {},
     "output_type": "execute_result"
    }
   ],
   "source": [
    "S4.normalizer(A4)"
   ]
  },
  {
   "cell_type": "markdown",
   "metadata": {},
   "source": [
    "And the center (the set of elements that commute with all the elements in $G$) with `center`."
   ]
  },
  {
   "cell_type": "code",
   "execution_count": 137,
   "metadata": {},
   "outputs": [
    {
     "data": {
      "text/plain": [
       "Group( [()] )"
      ]
     },
     "execution_count": 137,
     "metadata": {},
     "output_type": "execute_result"
    }
   ],
   "source": [
    "S4.center()"
   ]
  },
  {
   "cell_type": "markdown",
   "metadata": {},
   "source": [
    "The normal closure of a subgroup H in a group G can be computed:"
   ]
  },
  {
   "cell_type": "code",
   "execution_count": 138,
   "metadata": {},
   "outputs": [
    {
     "data": {
      "text/plain": [
       "Group( [(1, 2), (2, 3)] )"
      ]
     },
     "execution_count": 138,
     "metadata": {},
     "output_type": "execute_result"
    }
   ],
   "source": [
    "G=SymmetricGroup(3)\n",
    "a=G(permutation([2,1,3]))\n",
    "H=G.generate([a])\n",
    "G.normal_closure(H)"
   ]
  },
  {
   "cell_type": "code",
   "execution_count": 139,
   "metadata": {},
   "outputs": [
    {
     "data": {
      "text/plain": [
       "Group( [(1, 3, 2), (2, 4, 3)] )"
      ]
     },
     "execution_count": 139,
     "metadata": {},
     "output_type": "execute_result"
    }
   ],
   "source": [
    "G=SymmetricGroup(4)\n",
    "a=G(permutation([2,1,3,4]))\n",
    "b=G(permutation([2,3,1,4]))\n",
    "H=G.generate([a])\n",
    "K=G.generate([b])\n",
    "G.commutator(H,K)"
   ]
  },
  {
   "cell_type": "markdown",
   "metadata": {},
   "source": [
    "## Group actions\n",
    "Recall that a group action is a map $*:G\\times X \\to X$ with $G$ a group and $X$ a set such that \n",
    "\n",
    "1. $a*(b*x)=(a b)*x$ for all $a,b\\in G$ and all $x\\in X$.\n",
    "2. $e*x=x$ for all $x\\in X$."
   ]
  },
  {
   "cell_type": "code",
   "execution_count": 140,
   "metadata": {},
   "outputs": [],
   "source": [
    "G=SymmetricGroup(3)\n",
    "f=GroupAction(G,Set({1,2,3}),lambda x,y:x.elem(y))\n",
    "p=G(permutation(2,3,1))\n"
   ]
  },
  {
   "cell_type": "code",
   "execution_count": 141,
   "metadata": {},
   "outputs": [
    {
     "data": {
      "text/plain": [
       "{1, 2, 3}"
      ]
     },
     "execution_count": 141,
     "metadata": {},
     "output_type": "execute_result"
    }
   ],
   "source": [
    "f.orbit(2)"
   ]
  },
  {
   "cell_type": "code",
   "execution_count": 142,
   "metadata": {},
   "outputs": [
    {
     "data": {
      "text/plain": [
       "Group( [(1, 3), ()] )"
      ]
     },
     "execution_count": 142,
     "metadata": {},
     "output_type": "execute_result"
    }
   ],
   "source": [
    "f.stabilizer(2)"
   ]
  },
  {
   "cell_type": "code",
   "execution_count": 143,
   "metadata": {},
   "outputs": [
    {
     "data": {
      "text/plain": [
       "[(), (1, 3)]"
      ]
     },
     "execution_count": 143,
     "metadata": {},
     "output_type": "execute_result"
    }
   ],
   "source": [
    "list(f.stabilizer(2))"
   ]
  },
  {
   "cell_type": "markdown",
   "metadata": {},
   "source": [
    "The group is transitive, as it has a single orbit."
   ]
  },
  {
   "cell_type": "code",
   "execution_count": 144,
   "metadata": {},
   "outputs": [
    {
     "data": {
      "text/plain": [
       "[{1, 2, 3}]"
      ]
     },
     "execution_count": 144,
     "metadata": {},
     "output_type": "execute_result"
    }
   ],
   "source": [
    "f.orbits()"
   ]
  },
  {
   "cell_type": "code",
   "execution_count": 145,
   "metadata": {},
   "outputs": [
    {
     "data": {
      "text/plain": [
       "True"
      ]
     },
     "execution_count": 145,
     "metadata": {},
     "output_type": "execute_result"
    }
   ],
   "source": [
    "f.is_transitive()"
   ]
  },
  {
   "cell_type": "markdown",
   "metadata": {},
   "source": [
    "Now let us change the action to the conjugation."
   ]
  },
  {
   "cell_type": "code",
   "execution_count": 146,
   "metadata": {},
   "outputs": [],
   "source": [
    "X=G.group_elems\n",
    "f=GroupAction(G,X,lambda g,x:g*x*g**-1)"
   ]
  },
  {
   "cell_type": "markdown",
   "metadata": {},
   "source": [
    "In this setting, the orbit coincides with the conjugacy class of the element in the group."
   ]
  },
  {
   "cell_type": "code",
   "execution_count": 147,
   "metadata": {},
   "outputs": [
    {
     "data": {
      "text/plain": [
       "{(1, 2, 3), (1, 3, 2)}"
      ]
     },
     "execution_count": 147,
     "metadata": {},
     "output_type": "execute_result"
    }
   ],
   "source": [
    "f.orbit(p)"
   ]
  },
  {
   "cell_type": "code",
   "execution_count": 148,
   "metadata": {},
   "outputs": [
    {
     "data": {
      "text/plain": [
       "{(1, 2, 3), (1, 3, 2)}"
      ]
     },
     "execution_count": 148,
     "metadata": {},
     "output_type": "execute_result"
    }
   ],
   "source": [
    "p.conjugacy_class()"
   ]
  },
  {
   "cell_type": "markdown",
   "metadata": {},
   "source": [
    "And the stabilizer is just the centralizer."
   ]
  },
  {
   "cell_type": "code",
   "execution_count": 149,
   "metadata": {},
   "outputs": [
    {
     "data": {
      "text/plain": [
       "True"
      ]
     },
     "execution_count": 149,
     "metadata": {},
     "output_type": "execute_result"
    }
   ],
   "source": [
    "p.centralizer() == f.stabilizer(p)"
   ]
  },
  {
   "cell_type": "markdown",
   "metadata": {},
   "source": [
    "## Todd Coxeter Algorithm\n",
    "\n",
    "\n",
    "We will explain how the algorithm works. To do this, different examples will be seen.\n",
    "Let $G$ be a group given by a finite presentation: $G = \\langle X \\mid R \\rangle$, where $X$ is a set of generators and $R$ is a set of relators.\n",
    "Let $H = \\langle h_1, h_2,...,h_r \\rangle \\leq G $, where the generators $h_i$ are word in $ X^{\\pm 1} $.\n",
    "\n",
    "The procedure that we will follow is the following:\n",
    " \n",
    " - Read the input data, either by entering the data by hand or by using the readGroup() method, in which a file can be indicated.\n",
    " - Apply the Todd Coxeter Algorithm.\n",
    " - Obtain the generators of the group and, from these, obtain the rest of the elements to give it a group structure.\n",
    " - Use the is\\_isomorphic() method to identify each group with known groups.\n"
   ]
  },
  {
   "cell_type": "code",
   "execution_count": 150,
   "metadata": {},
   "outputs": [],
   "source": [
    "from ToddCoxeter import CosetTable, readGroup\n",
    "from IPython.display import display, Image,HTML"
   ]
  },
  {
   "cell_type": "markdown",
   "metadata": {},
   "source": [
    "Internally, Todd Coxeter Algorithm works with a table of lateral cosets of $G$ on $H$. The main class is called CosetTable and the necessary variables are defined in the constructor to apply the algorithm to the given presentation.\n",
    "\n",
    "Let $G=\\langle a,b \\mid a^2, b^2, ab=ba \\rangle$ and $H=\\{1\\}$."
   ]
  },
  {
   "cell_type": "code",
   "execution_count": 151,
   "metadata": {},
   "outputs": [],
   "source": [
    "gen = ['a','b']\n",
    "rels = ['aa','bb','abAB']\n",
    "genH = []\n",
    "\n",
    "G = CosetTable(gen,rels, genH)\n",
    "G.CosetEnumeration()"
   ]
  },
  {
   "cell_type": "markdown",
   "metadata": {},
   "source": [
    "Now, we can show the table of lateral cosets and the associated Schreier graph.\n",
    "- The number of lateral classes coincides with the index $[G: H]$. \n",
    "- In our version, cosets are represented by numbers $(1,2,3 ...)$."
   ]
  },
  {
   "cell_type": "code",
   "execution_count": 152,
   "metadata": {},
   "outputs": [
    {
     "name": "stdout",
     "output_type": "stream",
     "text": [
      "┌───┬───┬───┬───┬───┐\n",
      "│ C │ a │ A │ b │ B │\n",
      "├───┼───┼───┼───┼───┤\n",
      "│ 1 │ 2 │ 2 │ 3 │ 3 │\n",
      "├───┼───┼───┼───┼───┤\n",
      "│ 2 │ 1 │ 1 │ 4 │ 4 │\n",
      "├───┼───┼───┼───┼───┤\n",
      "│ 3 │ 4 │ 4 │ 1 │ 1 │\n",
      "├───┼───┼───┼───┼───┤\n",
      "│ 4 │ 3 │ 3 │ 2 │ 2 │\n",
      "└───┴───┴───┴───┴───┘\n"
     ]
    }
   ],
   "source": [
    "T = G.coset_table()\n",
    "print(T)"
   ]
  },
  {
   "cell_type": "code",
   "execution_count": 153,
   "metadata": {},
   "outputs": [
    {
     "data": {
      "image/png": "[encoded data removed]",
      "text/plain": [
       "<IPython.core.display.Image object>"
      ]
     },
     "metadata": {},
     "output_type": "display_data"
    }
   ],
   "source": [
    "G.schreier_graph(notes=False)"
   ]
  },
  {
   "cell_type": "markdown",
   "metadata": {},
   "source": [
    "Now, we will obtain the Schreier generators and we will obtain the group generated by these, which will be a permutation group."
   ]
  },
  {
   "cell_type": "code",
   "execution_count": 154,
   "metadata": {},
   "outputs": [
    {
     "name": "stdout",
     "output_type": "stream",
     "text": [
      "g0 = (1, 2)(3, 4)\n",
      "g1 = (1, 3)(2, 4)\n"
     ]
    }
   ],
   "source": [
    "def print_gens(gens):\n",
    "    for i in range(len(gens)):\n",
    "        print(\"g{} = {}\".format(i, gens[i]))\n",
    "        \n",
    "generators = G.getGenerators()\n",
    "print_gens(generators)"
   ]
  },
  {
   "cell_type": "code",
   "execution_count": 155,
   "metadata": {},
   "outputs": [
    {
     "name": "stdout",
     "output_type": "stream",
     "text": [
      "Group with 4 elements: {(), (1, 2)(3, 4), (1, 4)(2, 3), (1, 3)(2, 4)}\n"
     ]
    }
   ],
   "source": [
    "Gr = Group(elems=generators)\n",
    "print(Gr)"
   ]
  },
  {
   "cell_type": "markdown",
   "metadata": {},
   "source": [
    "Once the group structure is given, the objective now is to identify what other group is isomorphic to this one. We can call the different methods of the library to know how the elements behave."
   ]
  },
  {
   "cell_type": "code",
   "execution_count": 156,
   "metadata": {},
   "outputs": [
    {
     "data": {
      "text/html": [
       "<head><style>\n",
       "table, th, td {border: 1px solid black;\n",
       " border-collapse: collapse;}\n",
       " th, td {padding: 15px;}</style></head><p/>\n",
       " <table>\n",
       " <tr> <td bgcolor='White'> * </td> <td bgcolor=Red>()</td> <td bgcolor=Yellow>(1, 2)(3, 4)</td> <td bgcolor=Lime>(1, 4)(2, 3)</td> <td bgcolor=Blue>(1, 3)(2, 4)</td> </tr>\n",
       "<tr> <td bgcolor=Red> ()  </td> <td bgcolor=Red>()</td>  <td bgcolor=Yellow>(1, 2)(3, 4)</td>  <td bgcolor=Lime>(1, 4)(2, 3)</td>  <td bgcolor=Blue>(1, 3)(2, 4)</td></tr>\n",
       " <tr> <td bgcolor=Yellow> (1, 2)(3, 4)  </td> <td bgcolor=Yellow>(1, 2)(3, 4)</td>  <td bgcolor=Red>()</td>  <td bgcolor=Blue>(1, 3)(2, 4)</td>  <td bgcolor=Lime>(1, 4)(2, 3)</td></tr>\n",
       " <tr> <td bgcolor=Lime> (1, 4)(2, 3)  </td> <td bgcolor=Lime>(1, 4)(2, 3)</td>  <td bgcolor=Blue>(1, 3)(2, 4)</td>  <td bgcolor=Red>()</td>  <td bgcolor=Yellow>(1, 2)(3, 4)</td></tr>\n",
       " <tr> <td bgcolor=Blue> (1, 3)(2, 4)  </td> <td bgcolor=Blue>(1, 3)(2, 4)</td>  <td bgcolor=Lime>(1, 4)(2, 3)</td>  <td bgcolor=Yellow>(1, 2)(3, 4)</td>  <td bgcolor=Red>()</td></tr>\n",
       " </table>"
      ],
      "text/plain": [
       "<IPython.core.display.HTML object>"
      ]
     },
     "metadata": {},
     "output_type": "display_data"
    }
   ],
   "source": [
    "Gr.table()"
   ]
  },
  {
   "cell_type": "code",
   "execution_count": 157,
   "metadata": {},
   "outputs": [
    {
     "data": {
      "text/plain": [
       "True"
      ]
     },
     "execution_count": 157,
     "metadata": {},
     "output_type": "execute_result"
    }
   ],
   "source": [
    "K = KleinGroup()\n",
    "Gr.is_isomorphic(K)"
   ]
  },
  {
   "cell_type": "markdown",
   "metadata": {},
   "source": [
    "Let $G = \\langle a,b \\mid a^6 = b^{2} = c^{2} = 1, abc \\rangle$ and  $H = \\{ b\\}$."
   ]
  },
  {
   "cell_type": "markdown",
   "metadata": {},
   "source": [
    "We will use the readgroup() method this time."
   ]
  },
  {
   "cell_type": "code",
   "execution_count": 158,
   "metadata": {},
   "outputs": [
    {
     "name": "stdout",
     "output_type": "stream",
     "text": [
      "(['a', 'b', 'c'], ['aaaaaa', 'bb', 'cc', 'abc'], ['b'])\n"
     ]
    }
   ],
   "source": [
    "file = \"Groups/3gens.txt\"\n",
    "f = readGroup(file)\n",
    "print(f)"
   ]
  },
  {
   "cell_type": "markdown",
   "metadata": {},
   "source": [
    "We apply the Todd Coxeter Algorithm with the CosetEnumeration() method."
   ]
  },
  {
   "cell_type": "code",
   "execution_count": 159,
   "metadata": {},
   "outputs": [
    {
     "name": "stdout",
     "output_type": "stream",
     "text": [
      "┌───┬───┬───┬───┬───┬───┬───┐\n",
      "│ C │ a │ A │ b │ B │ c │ C │\n",
      "├───┼───┼───┼───┼───┼───┼───┤\n",
      "│ 1 │ 2 │ 6 │ 1 │ 1 │ 6 │ 6 │\n",
      "├───┼───┼───┼───┼───┼───┼───┤\n",
      "│ 2 │ 3 │ 1 │ 6 │ 6 │ 5 │ 5 │\n",
      "├───┼───┼───┼───┼───┼───┼───┤\n",
      "│ 3 │ 4 │ 2 │ 5 │ 5 │ 4 │ 4 │\n",
      "├───┼───┼───┼───┼───┼───┼───┤\n",
      "│ 4 │ 5 │ 3 │ 4 │ 4 │ 3 │ 3 │\n",
      "├───┼───┼───┼───┼───┼───┼───┤\n",
      "│ 5 │ 6 │ 4 │ 3 │ 3 │ 2 │ 2 │\n",
      "├───┼───┼───┼───┼───┼───┼───┤\n",
      "│ 6 │ 1 │ 5 │ 2 │ 2 │ 1 │ 1 │\n",
      "└───┴───┴───┴───┴───┴───┴───┘\n"
     ]
    }
   ],
   "source": [
    "G = CosetTable(f)\n",
    "G.CosetEnumeration()\n",
    "\n",
    "print(G.coset_table())"
   ]
  },
  {
   "cell_type": "code",
   "execution_count": 160,
   "metadata": {},
   "outputs": [
    {
     "data": {
      "image/png": "[encoded data removed]",
      "text/plain": [
       "<IPython.core.display.Image object>"
      ]
     },
     "metadata": {},
     "output_type": "display_data"
    }
   ],
   "source": [
    "G.schreier_graph(notes=False)"
   ]
  },
  {
   "cell_type": "markdown",
   "metadata": {},
   "source": [
    "In total 6 vertices are used, so the index $[G:H] = 6$.\n",
    "\n",
    "Now, we can get Schreier generators that will be used in the constructor of the class Group to define it."
   ]
  },
  {
   "cell_type": "code",
   "execution_count": 161,
   "metadata": {},
   "outputs": [
    {
     "name": "stdout",
     "output_type": "stream",
     "text": [
      "g0 = (1, 2, 3, 4, 5, 6)\n",
      "g1 = (2, 6)(3, 5)\n",
      "g2 = (1, 6)(2, 5)(3, 4)\n"
     ]
    }
   ],
   "source": [
    "generators = G.getGenerators()\n",
    "print_gens(generators)\n"
   ]
  },
  {
   "cell_type": "code",
   "execution_count": 162,
   "metadata": {},
   "outputs": [
    {
     "name": "stdout",
     "output_type": "stream",
     "text": [
      "Group with 12 elements: {(1, 5)(2, 4), (1, 2, 3, 4, 5, 6), (1, 4)(2, 5)(3, 6), (1, 6)(2, 5)(3, 4), (1, 3)(4, 6), (1, 4)(2, 3)(5, 6), (), (2, 6)(3, 5), (1, 2)(3, 6)(4, 5), (1, 6, 5, 4, 3, 2), (1, 3, 5)(2, 4, 6), (1, 5, 3)(2, 6, 4)}\n"
     ]
    }
   ],
   "source": [
    "group = Group(elems=generators)\n",
    "print(group)"
   ]
  },
  {
   "cell_type": "markdown",
   "metadata": {},
   "source": [
    "Now that we have generated the group, we can try to establish an isomorphism with a known group."
   ]
  },
  {
   "cell_type": "code",
   "execution_count": 163,
   "metadata": {},
   "outputs": [
    {
     "data": {
      "text/plain": [
       "False"
      ]
     },
     "execution_count": 163,
     "metadata": {},
     "output_type": "execute_result"
    }
   ],
   "source": [
    "group.is_abelian()"
   ]
  },
  {
   "cell_type": "markdown",
   "metadata": {},
   "source": [
    "\n",
    "It is a non-abelian group of order 12 so it must be isomorphic to one of the following:\n",
    "    \\\\[  G \\cong A_4 = \\{ a,b \\mid a^3=b^3=(ab)^2=1 \\} \\\\]\n",
    "     \\\\[  G \\cong D_6 = \\{ a,b \\mid a^6=b^2=1, ab=a^{-1}b \\} \\\\]\n",
    "    \\\\[  G \\cong Q_3 = \\{ a,b \\mid a^{6}=1, a^n=b^2, ab=a^{-1}b \\}\\\\]"
   ]
  },
  {
   "cell_type": "code",
   "execution_count": 164,
   "metadata": {},
   "outputs": [
    {
     "name": "stdout",
     "output_type": "stream",
     "text": [
      "False\n",
      "True\n",
      "False\n"
     ]
    }
   ],
   "source": [
    "A = AlternatingGroup(4)\n",
    "D = DihedralGroup(6)\n",
    "Q = QuaternionGroupGeneralised(3)\n",
    "\n",
    "print(group.is_isomorphic(A))\n",
    "print(group.is_isomorphic(D))\n",
    "print(group.is_isomorphic(Q))"
   ]
  },
  {
   "cell_type": "markdown",
   "metadata": {},
   "source": [
    "## Other presentations"
   ]
  },
  {
   "cell_type": "markdown",
   "metadata": {},
   "source": [
    "We will consider some presentations of groups with high order to show the power of\n",
    "the implemented method.\n"
   ]
  },
  {
   "cell_type": "markdown",
   "metadata": {},
   "source": [
    "Let $G = \\langle a,b,c,d \\mid a^2 = b^2 = c^2 = d^2 = 1, (ab)^3 = (bc)^3 = (cd)^3 = 1, (ac)^2 = (bd)^2 = (ad)^2 = 1\\rangle$ \n",
    "and $H=\\{1\\} \\leq G$."
   ]
  },
  {
   "cell_type": "code",
   "execution_count": 165,
   "metadata": {},
   "outputs": [
    {
     "data": {
      "text/plain": [
       "(['a', 'b', 'c', 'd'],\n",
       " ['aa',\n",
       "  'bb',\n",
       "  'cc',\n",
       "  'dd',\n",
       "  'ababab',\n",
       "  'bcbcbc',\n",
       "  'cdcdcd',\n",
       "  'acac',\n",
       "  'bdbd',\n",
       "  'adad'],\n",
       " [])"
      ]
     },
     "execution_count": 165,
     "metadata": {},
     "output_type": "execute_result"
    }
   ],
   "source": [
    "file = \"Groups/S5.txt\"\n",
    "f = readGroup(file)\n",
    "f"
   ]
  },
  {
   "cell_type": "markdown",
   "metadata": {},
   "source": [
    "Let's apply the algorithm and generate the group from the Schreier generators:"
   ]
  },
  {
   "cell_type": "code",
   "execution_count": 166,
   "metadata": {},
   "outputs": [],
   "source": [
    "G = CosetTable(f)\n",
    "G.CosetEnumeration()"
   ]
  },
  {
   "cell_type": "code",
   "execution_count": 167,
   "metadata": {},
   "outputs": [
    {
     "name": "stdout",
     "output_type": "stream",
     "text": [
      "Group with 120 elements. \n"
     ]
    }
   ],
   "source": [
    "generators = G.getGenerators()\n",
    "S = Group(elems = generators)\n",
    "print(S)"
   ]
  },
  {
   "cell_type": "markdown",
   "metadata": {},
   "source": [
    "Let's see if S is abelian:"
   ]
  },
  {
   "cell_type": "code",
   "execution_count": 168,
   "metadata": {},
   "outputs": [
    {
     "data": {
      "text/plain": [
       "False"
      ]
     },
     "execution_count": 168,
     "metadata": {},
     "output_type": "execute_result"
    }
   ],
   "source": [
    "S.is_abelian()"
   ]
  },
  {
   "cell_type": "code",
   "execution_count": 169,
   "metadata": {},
   "outputs": [],
   "source": [
    "S5 = SymmetricGroup(5)"
   ]
  },
  {
   "cell_type": "code",
   "execution_count": 170,
   "metadata": {},
   "outputs": [
    {
     "data": {
      "text/plain": [
       "True"
      ]
     },
     "execution_count": 170,
     "metadata": {},
     "output_type": "execute_result"
    }
   ],
   "source": [
    "S5.is_isomorphic(S)"
   ]
  },
  {
   "cell_type": "markdown",
   "metadata": {},
   "source": [
    "\n",
    "We have seen that the group is isomorphic to the symmetric group of order 120."
   ]
  },
  {
   "cell_type": "markdown",
   "metadata": {},
   "source": [
    "Let $G = \\langle a,b,c \\mid a^3 =b^2=c^2, (ab)^4, (ac)^2, (bc)^3 \\rangle$ and $H = \\langle a,b \\rangle$."
   ]
  },
  {
   "cell_type": "code",
   "execution_count": 171,
   "metadata": {},
   "outputs": [
    {
     "data": {
      "text/plain": [
       "(['a', 'b', 'c'],\n",
       " ['aaa', 'bb', 'cc', 'abababab', 'acac', 'bcbcbc'],\n",
       " ['a', 'b'])"
      ]
     },
     "execution_count": 171,
     "metadata": {},
     "output_type": "execute_result"
    }
   ],
   "source": [
    "file = \"Groups/G0.txt\"\n",
    "f = readGroup(file)\n",
    "f"
   ]
  },
  {
   "cell_type": "code",
   "execution_count": 172,
   "metadata": {},
   "outputs": [],
   "source": [
    "C = CosetTable(f)\n",
    "C.CosetEnumeration()\n",
    "generators = C.getGenerators()"
   ]
  },
  {
   "cell_type": "code",
   "execution_count": 173,
   "metadata": {},
   "outputs": [
    {
     "data": {
      "text/plain": [
       "576"
      ]
     },
     "execution_count": 173,
     "metadata": {},
     "output_type": "execute_result"
    }
   ],
   "source": [
    "S = Group(elems=generators)\n",
    "S.order()"
   ]
  },
  {
   "cell_type": "code",
   "execution_count": 174,
   "metadata": {},
   "outputs": [
    {
     "data": {
      "text/plain": [
       "False"
      ]
     },
     "execution_count": 174,
     "metadata": {},
     "output_type": "execute_result"
    }
   ],
   "source": [
    "S.is_abelian()"
   ]
  },
  {
   "cell_type": "markdown",
   "metadata": {},
   "source": [
    "\n",
    "In this case, after applying the different methods of Todd Coxeter Algorithm, we have seen that it is a non-abelian group of order 576; however, we can not establish any isomorphism with known groups since we do not know any of that order."
   ]
  }
 ],
 "metadata": {
  "kernelspec": {
   "display_name": "Python 3",
   "language": "python",
   "name": "python3"
  },
  "language_info": {
   "codemirror_mode": {
    "name": "ipython",
    "version": 3
   },
   "file_extension": ".py",
   "mimetype": "text/x-python",
   "name": "python",
   "nbconvert_exporter": "python",
   "pygments_lexer": "ipython3",
   "version": "3.8.3"
  }
 },
 "nbformat": 4,
 "nbformat_minor": 1
}
