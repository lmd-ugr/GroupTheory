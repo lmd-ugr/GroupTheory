{
 "cells": [
  {
   "cell_type": "markdown",
   "metadata": {
    "slideshow": {
     "slide_type": "slide"
    }
   },
   "source": [
    "# Algoritmo de Todd Coxeter\n",
    "\n",
    "Sea G un grupo definido por una presentación G = < X | R > y H = < Y > un subgrupo suyo. El objetivo será aplicar el Algoritmo de Todd Coxeter para conocer la estructura del grupo y poder realizar operaciones con él.\n",
    "\n",
    "\n"
   ]
  },
  {
   "cell_type": "markdown",
   "metadata": {
    "slideshow": {
     "slide_type": "slide"
    }
   },
   "source": [
    "En primer lugar, importamos las librerías que se usarán:"
   ]
  },
  {
   "cell_type": "code",
   "execution_count": 1,
   "metadata": {
    "slideshow": {
     "slide_type": "subslide"
    }
   },
   "outputs": [],
   "source": [
    "from ToddCoxeter import *\n",
    "from IPython.display import display, Image,HTML"
   ]
  },
  {
   "cell_type": "markdown",
   "metadata": {
    "slideshow": {
     "slide_type": "slide"
    }
   },
   "source": [
    "- Los generadores serán letras del abecedario \\\\((a,b,c...)\\\\) y el elemento inverso de cada generador será representado por la misma letra pero en mayúscula.\n",
    "\n",
    "- Las relaciones serán palabras en el alfabeto \\\\( X^{\\pm 1}\\\\) y se deben dar igualadas a 1.\n"
   ]
  },
  {
   "cell_type": "code",
   "execution_count": 2,
   "metadata": {
    "slideshow": {
     "slide_type": "subslide"
    }
   },
   "outputs": [],
   "source": [
    "gen = ['a','b']\n",
    "rels = ['aa','bb','abAB']\n",
    "genH = []\n"
   ]
  },
  {
   "cell_type": "markdown",
   "metadata": {
    "slideshow": {
     "slide_type": "slide"
    }
   },
   "source": [
    "En primer lugar, creamos una instancia de la clase CosetTable. El algoritmo trabaja\n",
    "con una tabla que deberá rellenar para enumarar todas las clases laterales de G sobre H."
   ]
  },
  {
   "cell_type": "code",
   "execution_count": 3,
   "metadata": {
    "slideshow": {
     "slide_type": "subslide"
    }
   },
   "outputs": [],
   "source": [
    "Group = CosetTable(gen,rels, genH)"
   ]
  },
  {
   "cell_type": "markdown",
   "metadata": {
    "slideshow": {
     "slide_type": "subslide"
    }
   },
   "source": [
    "Inicialmente, la tabla de clases estará vacía:"
   ]
  },
  {
   "cell_type": "code",
   "execution_count": 4,
   "metadata": {
    "slideshow": {
     "slide_type": "subslide"
    }
   },
   "outputs": [
    {
     "data": {
      "text/plain": [
       "[[-1, -1, -1, -1]]"
      ]
     },
     "execution_count": 4,
     "metadata": {},
     "output_type": "execute_result"
    }
   ],
   "source": [
    "Group.tab"
   ]
  },
  {
   "cell_type": "markdown",
   "metadata": {
    "slideshow": {
     "slide_type": "slide"
    }
   },
   "source": [
    "Llamamos a la función principal, encargada de aplicar el método principal y de devolver\n",
    "la tabla de clases laterales rellena."
   ]
  },
  {
   "cell_type": "code",
   "execution_count": 5,
   "metadata": {
    "slideshow": {
     "slide_type": "subslide"
    }
   },
   "outputs": [],
   "source": [
    "Group.CosetEnumeration()"
   ]
  },
  {
   "cell_type": "markdown",
   "metadata": {
    "slideshow": {
     "slide_type": "subslide"
    }
   },
   "source": [
    "Mostramos la tabla de clases y el grafo de Schreier asociado:"
   ]
  },
  {
   "cell_type": "code",
   "execution_count": 21,
   "metadata": {
    "slideshow": {
     "slide_type": "subslide"
    }
   },
   "outputs": [
    {
     "name": "stdout",
     "output_type": "stream",
     "text": [
      "┌───┬───┬───┬───┬───┐\n",
      "│ C │ a │ A │ b │ B │\n",
      "├───┼───┼───┼───┼───┤\n",
      "│ 1 │ 2 │ 2 │ 3 │ 3 │\n",
      "├───┼───┼───┼───┼───┤\n",
      "│ 2 │ 1 │ 1 │ 4 │ 4 │\n",
      "├───┼───┼───┼───┼───┤\n",
      "│ 3 │ 4 │ 4 │ 1 │ 1 │\n",
      "├───┼───┼───┼───┼───┤\n",
      "│ 4 │ 3 │ 3 │ 2 │ 2 │\n",
      "└───┴───┴───┴───┴───┘\n",
      "Arrow from 1  to  2  coloured of  red\n",
      "Arrow from 1  to  3  coloured of  blue\n",
      "Arrow from 2  to  1  coloured of  red\n",
      "Arrow from 2  to  4  coloured of  blue\n",
      "Arrow from 3  to  4  coloured of  red\n",
      "Arrow from 3  to  1  coloured of  blue\n",
      "Arrow from 4  to  3  coloured of  red\n",
      "Arrow from 4  to  2  coloured of  blue\n"
     ]
    },
    {
     "data": {
      "image/png": "[encoded data removed]",
      "text/plain": [
       "<IPython.core.display.Image object>"
      ]
     },
     "metadata": {},
     "output_type": "display_data"
    }
   ],
   "source": [
    "print(Group.table)\n",
    "\n",
    "Group.schreier_graph()"
   ]
  },
  {
   "cell_type": "markdown",
   "metadata": {
    "slideshow": {
     "slide_type": "slide"
    }
   },
   "source": [
    "Uno de los principales problemas del algoritmo es su elevado uso de memoria. \n",
    "Por ello, se hace uso de 2 variables:\n",
    "\n",
    "- M, indica el tope de memoria disponible. (Número máximo de clases permitido)\n",
    "\n",
    "- n, indica el número de clases utilizadas en el momento actual."
   ]
  },
  {
   "cell_type": "markdown",
   "metadata": {
    "slideshow": {
     "slide_type": "subslide"
    }
   },
   "source": [
    "Las clases usadas se pueden ver mediante el método usedCosets(), mientras que\n",
    "el número de clases finales con finalCosets(). (clases vivas)"
   ]
  },
  {
   "cell_type": "code",
   "execution_count": 7,
   "metadata": {
    "slideshow": {
     "slide_type": "subslide"
    }
   },
   "outputs": [
    {
     "name": "stdout",
     "output_type": "stream",
     "text": [
      "Clases usadas: 4 \n",
      " Clases vivas: 4\n"
     ]
    }
   ],
   "source": [
    "u = Group.usedCosets()\n",
    "f = Group.finalCosets()\n",
    "\n",
    "print(\"Clases usadas: {} \\n Clases vivas: {}\".format(u,f))"
   ]
  },
  {
   "cell_type": "markdown",
   "metadata": {
    "slideshow": {
     "slide_type": "slide"
    }
   },
   "source": [
    "Obtenemos los generadores del grupo y, a partir de ellos, obtenemos el resto de elementos."
   ]
  },
  {
   "cell_type": "code",
   "execution_count": 8,
   "metadata": {
    "slideshow": {
     "slide_type": "subslide"
    }
   },
   "outputs": [
    {
     "name": "stdout",
     "output_type": "stream",
     "text": [
      "\n",
      "Generators of G:\n",
      "g0 = (1, 2)(3, 4)\n",
      "g1 = (1, 3)(2, 4)\n"
     ]
    }
   ],
   "source": [
    "generators = Group.getGenerators()"
   ]
  },
  {
   "cell_type": "code",
   "execution_count": 9,
   "metadata": {
    "slideshow": {
     "slide_type": "subslide"
    }
   },
   "outputs": [
    {
     "name": "stdout",
     "output_type": "stream",
     "text": [
      "Group with 4 elements: {(), (1, 2)(3, 4), (1, 4)(2, 3), (1, 3)(2, 4)}\n"
     ]
    }
   ],
   "source": [
    "G = generate(generators)\n",
    "print(G)"
   ]
  },
  {
   "cell_type": "markdown",
   "metadata": {
    "slideshow": {
     "slide_type": "slide"
    }
   },
   "source": [
    "Al darle estructura de grupo, se pueden llamar a todos los métodos de la librería"
   ]
  },
  {
   "cell_type": "code",
   "execution_count": 10,
   "metadata": {
    "slideshow": {
     "slide_type": "slide"
    }
   },
   "outputs": [
    {
     "name": "stdout",
     "output_type": "stream",
     "text": [
      "┌──────────────┬──────────────┬──────────────┬──────────────┬──────────────┐\n",
      "│      *       │      ()      │ (1, 2)(3, 4) │ (1, 4)(2, 3) │ (1, 3)(2, 4) │\n",
      "├──────────────┼──────────────┼──────────────┼──────────────┼──────────────┤\n",
      "│      ()      │      ()      │ (1, 2)(3, 4) │ (1, 4)(2, 3) │ (1, 3)(2, 4) │\n",
      "├──────────────┼──────────────┼──────────────┼──────────────┼──────────────┤\n",
      "│ (1, 2)(3, 4) │ (1, 2)(3, 4) │      ()      │ (1, 3)(2, 4) │ (1, 4)(2, 3) │\n",
      "├──────────────┼──────────────┼──────────────┼──────────────┼──────────────┤\n",
      "│ (1, 4)(2, 3) │ (1, 4)(2, 3) │ (1, 3)(2, 4) │      ()      │ (1, 2)(3, 4) │\n",
      "├──────────────┼──────────────┼──────────────┼──────────────┼──────────────┤\n",
      "│ (1, 3)(2, 4) │ (1, 3)(2, 4) │ (1, 4)(2, 3) │ (1, 2)(3, 4) │      ()      │\n",
      "└──────────────┴──────────────┴──────────────┴──────────────┴──────────────┘\n"
     ]
    }
   ],
   "source": [
    "print(G.Cayley_table())"
   ]
  },
  {
   "cell_type": "code",
   "execution_count": 11,
   "metadata": {
    "slideshow": {
     "slide_type": "slide"
    }
   },
   "outputs": [
    {
     "name": "stdout",
     "output_type": "stream",
     "text": [
      "{(): 1, (1, 2)(3, 4): 2, (1, 4)(2, 3): 2, (1, 3)(2, 4): 2}\n"
     ]
    }
   ],
   "source": [
    "print(G.elements_order())"
   ]
  },
  {
   "cell_type": "code",
   "execution_count": null,
   "metadata": {
    "slideshow": {
     "slide_type": "skip"
    }
   },
   "outputs": [],
   "source": []
  },
  {
   "cell_type": "markdown",
   "metadata": {
    "slideshow": {
     "slide_type": "slide"
    }
   },
   "source": [
    "# Otros Ejemplos"
   ]
  },
  {
   "cell_type": "code",
   "execution_count": 12,
   "metadata": {
    "slideshow": {
     "slide_type": "slide"
    }
   },
   "outputs": [
    {
     "name": "stdout",
     "output_type": "stream",
     "text": [
      "(['a', 'b'], ['aBBAbbb', 'BAAbaaa'], [])\n"
     ]
    }
   ],
   "source": [
    "file = \"Groups/1.txt\"\n",
    "\n",
    "f = readGroup(file)\n",
    "print(f)"
   ]
  },
  {
   "cell_type": "code",
   "execution_count": 13,
   "metadata": {
    "slideshow": {
     "slide_type": "slide"
    }
   },
   "outputs": [],
   "source": [
    "G = CosetTable(f)\n",
    "G.CosetEnumeration()"
   ]
  },
  {
   "cell_type": "code",
   "execution_count": 14,
   "metadata": {
    "slideshow": {
     "slide_type": "subslide"
    }
   },
   "outputs": [
    {
     "name": "stdout",
     "output_type": "stream",
     "text": [
      "┌───┬───┬───┬───┬───┐\n",
      "│ C │ a │ A │ b │ B │\n",
      "├───┼───┼───┼───┼───┤\n",
      "│ 1 │ 1 │ 1 │ 1 │ 1 │\n",
      "└───┴───┴───┴───┴───┘\n",
      "Arrow from 1  to  1  coloured of  red\n",
      "Arrow from 1  to  1  coloured of  blue\n"
     ]
    },
    {
     "data": {
      "image/png": "[encoded data removed]",
      "text/plain": [
       "<IPython.core.display.Image object>"
      ]
     },
     "metadata": {},
     "output_type": "display_data"
    }
   ],
   "source": [
    "print(G.table)\n",
    "G.schreier_graph()\n"
   ]
  },
  {
   "cell_type": "code",
   "execution_count": 15,
   "metadata": {
    "slideshow": {
     "slide_type": "slide"
    }
   },
   "outputs": [
    {
     "data": {
      "text/plain": [
       "85"
      ]
     },
     "execution_count": 15,
     "metadata": {},
     "output_type": "execute_result"
    }
   ],
   "source": [
    "G.usedCosets()"
   ]
  },
  {
   "cell_type": "code",
   "execution_count": 16,
   "metadata": {
    "slideshow": {
     "slide_type": "subslide"
    }
   },
   "outputs": [
    {
     "data": {
      "text/plain": [
       "1"
      ]
     },
     "execution_count": 16,
     "metadata": {},
     "output_type": "execute_result"
    }
   ],
   "source": [
    "G.finalCosets()"
   ]
  },
  {
   "cell_type": "markdown",
   "metadata": {
    "slideshow": {
     "slide_type": "subslide"
    }
   },
   "source": [
    "¿Por qué se usan tantas clases en el algoritmo y únicamente 1 de ellas está viva?"
   ]
  }
 ],
 "metadata": {
  "celltoolbar": "Slideshow",
  "kernelspec": {
   "display_name": "Python 3",
   "language": "python",
   "name": "python3"
  },
  "language_info": {
   "codemirror_mode": {
    "name": "ipython",
    "version": 3
   },
   "file_extension": ".py",
   "mimetype": "text/x-python",
   "name": "python",
   "nbconvert_exporter": "python",
   "pygments_lexer": "ipython3",
   "version": "3.8.3"
  }
 },
 "nbformat": 4,
 "nbformat_minor": 4
}
