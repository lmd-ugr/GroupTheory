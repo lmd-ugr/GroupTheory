{
 "cells": [
  {
   "cell_type": "markdown",
   "metadata": {
    "slideshow": {
     "slide_type": "slide"
    }
   },
   "source": [
    "# Algoritmo de Todd Coxeter\n",
    "\n",
    "Sea G un grupo definido por una presentación \\\\( G = < X | R > \\\\), donde \\\\( X \\\\) es el conjunto de generadores y \\\\( R\\\\) el conjunto de relatores. Sea \\\\(H = < h_1, h_2,...,h_r> \\leq G \\\\), donde los generadores \\\\( h_i \\\\) son palabras en el alfabeto \\\\( X^{\\pm 1} \\\\)\n",
    "\n",
    "El Algoritmo de Todd Coxeter resuelve el problema de la palabra (word problem) para el grupo \\\\( G \\\\) mediante la enumeración de clases de \\\\( G/H \\\\).\n",
    "\n",
    "\n",
    "\n",
    "\n"
   ]
  },
  {
   "cell_type": "markdown",
   "metadata": {
    "slideshow": {
     "slide_type": "slide"
    }
   },
   "source": [
    "En primer lugar, importamos las librerías que se usará el programa:"
   ]
  },
  {
   "cell_type": "code",
   "execution_count": 21,
   "metadata": {
    "slideshow": {
     "slide_type": "subslide"
    }
   },
   "outputs": [],
   "source": [
    "from ToddCoxeter import CosetTable, readGroup\n",
    "from Group import *\n",
    "from IPython.display import display, Image,HTML"
   ]
  },
  {
   "cell_type": "markdown",
   "metadata": {
    "slideshow": {
     "slide_type": "slide"
    }
   },
   "source": [
    "- Los generadores X serán letras del abecedario \\\\((a,b,c...)\\\\) y el elemento inverso de cada generador será representado por la misma letra pero en mayúscula. \n",
    " \n",
    "\n",
    "- Las relaciones serán palabras en el alfabeto \\\\( X^{\\pm 1}\\\\) y se deben dar igualadas a 1. Por ejemplo:\n",
    "    \n",
    "    \\\\[ a^3b^2 = 1 \\leftrightarrow aaabb \\\\]\n",
    " \\\\[ aba^{-1}b^{-1}=1 \\leftrightarrow abAB \\\\]\n"
   ]
  },
  {
   "cell_type": "markdown",
   "metadata": {
    "slideshow": {
     "slide_type": "subslide"
    }
   },
   "source": [
    "Consideremos el siguiente ejemplo:"
   ]
  },
  {
   "cell_type": "code",
   "execution_count": 19,
   "metadata": {
    "slideshow": {
     "slide_type": "subslide"
    }
   },
   "outputs": [],
   "source": [
    "gen = ['a','b']\n",
    "rels = ['aa','bb','abAB']\n",
    "genH = []\n"
   ]
  },
  {
   "cell_type": "markdown",
   "metadata": {
    "slideshow": {
     "slide_type": "slide"
    }
   },
   "source": [
    "Internamente, el algoritmo de Todd Coxeter trabaja con una tabla de clases laterales de \\\\( G \\\\) sobre \\\\( H \\\\), por ello, al crear la instancia, la tabla estará vacía.\n"
   ]
  },
  {
   "cell_type": "code",
   "execution_count": 24,
   "metadata": {
    "slideshow": {
     "slide_type": "subslide"
    }
   },
   "outputs": [
    {
     "ename": "NameError",
     "evalue": "name 'self' is not defined",
     "output_type": "error",
     "traceback": [
      "\u001b[0;31m---------------------------------------------------------------------------\u001b[0m",
      "\u001b[0;31mNameError\u001b[0m                                 Traceback (most recent call last)",
      "\u001b[0;32m<ipython-input-24-01b6abbe1ad7>\u001b[0m in \u001b[0;36m<module>\u001b[0;34m\u001b[0m\n\u001b[1;32m      1\u001b[0m \u001b[0mGroup\u001b[0m \u001b[0;34m=\u001b[0m \u001b[0mCosetTable\u001b[0m\u001b[0;34m(\u001b[0m\u001b[0mgen\u001b[0m\u001b[0;34m,\u001b[0m\u001b[0mrels\u001b[0m\u001b[0;34m,\u001b[0m \u001b[0mgenH\u001b[0m\u001b[0;34m)\u001b[0m\u001b[0;34m\u001b[0m\u001b[0;34m\u001b[0m\u001b[0m\n\u001b[1;32m      2\u001b[0m \u001b[0;34m\u001b[0m\u001b[0m\n\u001b[0;32m----> 3\u001b[0;31m \u001b[0mprint\u001b[0m\u001b[0;34m(\u001b[0m\u001b[0mself\u001b[0m\u001b[0;34m.\u001b[0m\u001b[0mtab\u001b[0m\u001b[0;34m)\u001b[0m\u001b[0;34m\u001b[0m\u001b[0;34m\u001b[0m\u001b[0m\n\u001b[0m\u001b[1;32m      4\u001b[0m \u001b[0;31m#print(Group.coset_table())\u001b[0m\u001b[0;34m\u001b[0m\u001b[0;34m\u001b[0m\u001b[0;34m\u001b[0m\u001b[0m\n",
      "\u001b[0;31mNameError\u001b[0m: name 'self' is not defined"
     ]
    }
   ],
   "source": [
    "Group = CosetTable(gen,rels, genH)\n",
    "\n",
    "print(Group.tab)\n",
    "#print(Group.coset_table())"
   ]
  },
  {
   "cell_type": "markdown",
   "metadata": {
    "slideshow": {
     "slide_type": "slide"
    }
   },
   "source": [
    "La función que ejecuta el método principal se denomina \\\\( CosetEnumeration() \\\\). Esta, refleja la acción a la derecha de \\\\( G \\\\) sobre \\\\( G/H \\\\). \n"
   ]
  },
  {
   "cell_type": "code",
   "execution_count": null,
   "metadata": {
    "slideshow": {
     "slide_type": "subslide"
    }
   },
   "outputs": [],
   "source": [
    "Group.CosetEnumeration()"
   ]
  },
  {
   "cell_type": "markdown",
   "metadata": {
    "slideshow": {
     "slide_type": "subslide"
    }
   },
   "source": [
    "Ahora bien, podemos mostrar la tabla de clases laterales y el grafo de Schreier asociado. Las funciones, respectivamente, son \\\\( table() \\\\) y \\\\( schreier\\_graph() \\\\).\n",
    "\n",
    "- Por teoría de grupos, el número de clases laterales coincide con el índice \\\\( [G:H]\\\\). \n",
    "- En nuestro programa, las clases laterales se representan por números \\\\( (1,2,3...) \\\\) ."
   ]
  },
  {
   "cell_type": "code",
   "execution_count": null,
   "metadata": {
    "slideshow": {
     "slide_type": "subslide"
    }
   },
   "outputs": [],
   "source": [
    "print(Group.table)\n",
    "\n",
    "Group.schreier_graph()"
   ]
  },
  {
   "cell_type": "markdown",
   "metadata": {
    "slideshow": {
     "slide_type": "slide"
    }
   },
   "source": [
    "Obtenemos los generadores del grupo y, a partir de ellos, obtenemos el resto de elementos."
   ]
  },
  {
   "cell_type": "code",
   "execution_count": null,
   "metadata": {
    "slideshow": {
     "slide_type": "subslide"
    }
   },
   "outputs": [],
   "source": [
    "def print_gens(gens):\n",
    "    for i in range(len(gens)):\n",
    "        print(\"g{} = {}\".format(i, gens[i]))\n",
    "        \n",
    "generators = Group.getGenerators()\n",
    "print_gens(generators)\n"
   ]
  },
  {
   "cell_type": "code",
   "execution_count": null,
   "metadata": {
    "slideshow": {
     "slide_type": "subslide"
    }
   },
   "outputs": [],
   "source": [
    "G = generate(generators)\n",
    "print(G)"
   ]
  },
  {
   "cell_type": "markdown",
   "metadata": {
    "slideshow": {
     "slide_type": "slide"
    }
   },
   "source": [
    "Al darle estructura de grupo, se pueden llamar a todos los métodos de la librería"
   ]
  },
  {
   "cell_type": "code",
   "execution_count": null,
   "metadata": {
    "slideshow": {
     "slide_type": "subslide"
    }
   },
   "outputs": [],
   "source": [
    "print(G.Cayley_table())"
   ]
  },
  {
   "cell_type": "code",
   "execution_count": null,
   "metadata": {
    "slideshow": {
     "slide_type": "subslide"
    }
   },
   "outputs": [],
   "source": [
    "print(G.elements_order())"
   ]
  },
  {
   "cell_type": "code",
   "execution_count": null,
   "metadata": {
    "slideshow": {
     "slide_type": "subslide"
    }
   },
   "outputs": [],
   "source": [
    "K = KleinGroup()\n",
    "G.is_isomorphic(K)"
   ]
  },
  {
   "cell_type": "markdown",
   "metadata": {
    "slideshow": {
     "slide_type": "slide"
    }
   },
   "source": [
    "# Problemas del Algoritmo de Todd Coxeter\n",
    "\n",
    "## Coincidencias\n",
    "\n",
    "En el proceso de definición de clases, se puede dar la situación de que dos clases distintas resultan ser la misma, es decir, están en la misma clase de equivalencia. Esto se conoce como \\\\(coincidencia\\\\) y, cuando se detecta una, se ha de reemplazar el grafo de Schreier por un grafo cociente que refleje dicha coincidencia."
   ]
  },
  {
   "cell_type": "code",
   "execution_count": null,
   "metadata": {
    "slideshow": {
     "slide_type": "slide"
    }
   },
   "outputs": [],
   "source": [
    "file = \"Groups/1.txt\"\n",
    "\n",
    "f = readGroup(file)\n",
    "print(f)"
   ]
  },
  {
   "cell_type": "code",
   "execution_count": null,
   "metadata": {
    "slideshow": {
     "slide_type": "slide"
    }
   },
   "outputs": [],
   "source": [
    "G = CosetTable(f)\n",
    "G.CosetEnumeration()"
   ]
  },
  {
   "cell_type": "code",
   "execution_count": null,
   "metadata": {
    "slideshow": {
     "slide_type": "subslide"
    }
   },
   "outputs": [],
   "source": [
    "print(G.table)\n",
    "G.schreier_graph()\n"
   ]
  },
  {
   "cell_type": "markdown",
   "metadata": {
    "slideshow": {
     "slide_type": "slide"
    }
   },
   "source": [
    "## Memoria\n",
    "\n",
    "\n",
    "Uno de los principales problemas del algoritmo es su elevado uso de memoria. \n",
    "Para controlarla, se hacen uso de 2 variables:\n",
    "\n",
    "- \\\\(M \\\\), indica el tope de memoria disponible, es decir, el máximo número de clases (tamaño de la tabla) que se permiten. Inicializado a \\\\(1E8\\\\).\n",
    "\n",
    "- \\\\(n \\\\), indica el número de clases que se han utilizado en la ejecución.\n",
    "\n",
    "\n",
    "El conjunto de las clases vivas, denotado por \\\\( \\Omega \\\\) son:\n",
    "\\\\[  \\Omega = \\{ x : p(x)= x \\}\\\\]"
   ]
  },
  {
   "cell_type": "markdown",
   "metadata": {
    "slideshow": {
     "slide_type": "subslide"
    }
   },
   "source": [
    "Las clases usadas en la ejecución del algoritmo se pueden ver con el método \\\\( usedCosets()\\\\), mientras \n",
    "que el número de clases finales (clases vivas) se consultan con \\\\(finalCosets() \\\\).\n",
    "\n"
   ]
  },
  {
   "cell_type": "code",
   "execution_count": null,
   "metadata": {
    "slideshow": {
     "slide_type": "subslide"
    }
   },
   "outputs": [],
   "source": [
    "u = G.usedCosets()\n",
    "f = G.finalCosets()\n",
    "\n",
    "print(\"Clases usadas: {} \\n Clases vivas: {}\".format(u,f))"
   ]
  },
  {
   "cell_type": "markdown",
   "metadata": {
    "slideshow": {
     "slide_type": "subslide"
    }
   },
   "source": [
    "¿Por qué se usan tantas clases en el algoritmo y únicamente 1 de ellas está viva?"
   ]
  },
  {
   "cell_type": "markdown",
   "metadata": {
    "slideshow": {
     "slide_type": "slide"
    }
   },
   "source": [
    "## Conocer la estructura de G y H usando la librería\n"
   ]
  },
  {
   "cell_type": "code",
   "execution_count": null,
   "metadata": {
    "slideshow": {
     "slide_type": "subslide"
    }
   },
   "outputs": [],
   "source": [
    "file = \"Groups/3gens.txt\"\n",
    "f = readGroup(file)\n",
    "print(f)\n",
    "\n",
    "G = CosetTable(f)\n",
    "G.CosetEnumeration()\n",
    "print(G.table)"
   ]
  },
  {
   "cell_type": "code",
   "execution_count": null,
   "metadata": {
    "slideshow": {
     "slide_type": "subslide"
    }
   },
   "outputs": [],
   "source": [
    "print(G.schreier_graph(notes=False))"
   ]
  },
  {
   "cell_type": "code",
   "execution_count": null,
   "metadata": {
    "slideshow": {
     "slide_type": "subslide"
    }
   },
   "outputs": [],
   "source": [
    "generators = G.getGenerators()\n",
    "print_gens(generators)\n",
    "group = generate(generators)"
   ]
  },
  {
   "cell_type": "code",
   "execution_count": null,
   "metadata": {
    "slideshow": {
     "slide_type": "subslide"
    }
   },
   "outputs": [],
   "source": [
    "print(group)\n",
    "\n",
    "print(group.is_abelian())"
   ]
  },
  {
   "cell_type": "markdown",
   "metadata": {
    "slideshow": {
     "slide_type": "subslide"
    }
   },
   "source": [
    "El grupo no es abeliano, luego se tiene que cumplir una de las siguientes condiciones:\n",
    "    \\\\[  G \\cong A_4 = \\{ a,b \\; | \\; a^3=b^3=(ab)^2=1 \\} \\\\]\n",
    "     \\\\[  G \\cong D_3 = \\{ a,b \\; | \\; a^6=b^2=1, ab=a^{-1}b \\} \\\\]\n",
    "    \\\\[  G \\cong Q_3 = \\{ a,b \\; | \\; a^{6}=1, a^n=b^2, ab=a^{-1}b \\}\\\\]"
   ]
  },
  {
   "cell_type": "code",
   "execution_count": null,
   "metadata": {
    "slideshow": {
     "slide_type": "subslide"
    }
   },
   "outputs": [],
   "source": [
    "A = AlternatingGroup(4)\n",
    "D = DihedralGroup(6)\n",
    "Q = QuaternionGroupGeneralised(3)\n",
    "\n",
    "print(group.is_isomorphic(A))\n",
    "print(group.is_isomorphic(D))\n",
    "print(group.is_isomorphic(Q))"
   ]
  },
  {
   "cell_type": "markdown",
   "metadata": {
    "slideshow": {
     "slide_type": "slide"
    }
   },
   "source": [
    "## Otras presentaciones\n",
    "\n",
    "Los siguientes libros se han obtenido del libro \\\\( \\textit{Handbook of Computational Group Theory}\\\\)."
   ]
  },
  {
   "cell_type": "code",
   "execution_count": null,
   "metadata": {
    "slideshow": {
     "slide_type": "subslide"
    }
   },
   "outputs": [],
   "source": []
  },
  {
   "cell_type": "code",
   "execution_count": null,
   "metadata": {},
   "outputs": [],
   "source": []
  },
  {
   "cell_type": "code",
   "execution_count": null,
   "metadata": {},
   "outputs": [],
   "source": [
    "gen = ['a','b']\n",
    "rels = ['aaaa','bbbbb','abABB']\n",
    "genH = []\n",
    "\n",
    "Group = CosetTable(gen,rels, genH)\n",
    "Group.CosetEnumeration()\n",
    "\n",
    "print(Group.table)\n",
    "print(Group.schreier_graph(notes=False))\n",
    "\n",
    "generators = Group.getGenerators()\n",
    "print_gens(generators)\n",
    "group = generate(generators)\n",
    "\n"
   ]
  },
  {
   "cell_type": "code",
   "execution_count": null,
   "metadata": {},
   "outputs": [],
   "source": [
    "print(group)"
   ]
  },
  {
   "cell_type": "code",
   "execution_count": null,
   "metadata": {},
   "outputs": [],
   "source": []
  }
 ],
 "metadata": {
  "celltoolbar": "Slideshow",
  "kernelspec": {
   "display_name": "Python 3",
   "language": "python",
   "name": "python3"
  },
  "language_info": {
   "codemirror_mode": {
    "name": "ipython",
    "version": 3
   },
   "file_extension": ".py",
   "mimetype": "text/x-python",
   "name": "python",
   "nbconvert_exporter": "python",
   "pygments_lexer": "ipython3",
   "version": "3.8.3"
  }
 },
 "nbformat": 4,
 "nbformat_minor": 4
}
